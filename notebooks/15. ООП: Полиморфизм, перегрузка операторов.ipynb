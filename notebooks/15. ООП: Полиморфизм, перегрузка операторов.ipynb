{
 "cells": [
  {
   "cell_type": "code",
   "execution_count": 1,
   "metadata": {},
   "outputs": [],
   "source": [
    "# Полиморфизм в python это разное поведение одного и того же метода для разных классов."
   ]
  },
  {
   "cell_type": "code",
   "execution_count": 2,
   "metadata": {},
   "outputs": [
    {
     "data": {
      "text/plain": [
       "2"
      ]
     },
     "execution_count": 2,
     "metadata": {},
     "output_type": "execute_result"
    }
   ],
   "source": [
    "# Рассмотрим такое поведение на примере операнда +\n",
    "1 + 1"
   ]
  },
  {
   "cell_type": "code",
   "execution_count": 3,
   "metadata": {},
   "outputs": [
    {
     "data": {
      "text/plain": [
       "'11'"
      ]
     },
     "execution_count": 3,
     "metadata": {},
     "output_type": "execute_result"
    }
   ],
   "source": [
    "'1' + '1'"
   ]
  },
  {
   "cell_type": "code",
   "execution_count": 4,
   "metadata": {},
   "outputs": [
    {
     "data": {
      "text/plain": [
       "['a', 'b']"
      ]
     },
     "execution_count": 4,
     "metadata": {},
     "output_type": "execute_result"
    }
   ],
   "source": [
    "l1 = ['a']\n",
    "l2 = ['b']\n",
    "l1 + l2"
   ]
  },
  {
   "cell_type": "code",
   "execution_count": 6,
   "metadata": {},
   "outputs": [
    {
     "data": {
      "text/plain": [
       "'1b'"
      ]
     },
     "execution_count": 6,
     "metadata": {},
     "output_type": "execute_result"
    }
   ],
   "source": [
    "# На самом деле + ни что иное как вызов магического дандер метода __add__:\n",
    "'1'.__add__('b')"
   ]
  },
  {
   "cell_type": "code",
   "execution_count": 7,
   "metadata": {},
   "outputs": [
    {
     "data": {
      "text/plain": [
       "2"
      ]
     },
     "execution_count": 7,
     "metadata": {},
     "output_type": "execute_result"
    }
   ],
   "source": [
    "# Этот метод __add__ в разных классах ведет себя по разному, потомучто он в этих классах по разному определен или переопределен.\n",
    "# Простой пример. Переопределим этот метод в своем классе:\n",
    "class Person:\n",
    "    age = 1\n",
    "    def __add__(self, value):\n",
    "        self.age += 1\n",
    "        return self.age\n",
    "    \n",
    "p = Person()\n",
    "p + 123465"
   ]
  },
  {
   "cell_type": "code",
   "execution_count": 8,
   "metadata": {},
   "outputs": [
    {
     "data": {
      "text/plain": [
       "3"
      ]
     },
     "execution_count": 8,
     "metadata": {},
     "output_type": "execute_result"
    }
   ],
   "source": [
    "# Чтобы мы не прибавляли, будем получать увеличение значения age на единицу.\n",
    "p + 'sdbsdbsdb'"
   ]
  },
  {
   "cell_type": "code",
   "execution_count": 9,
   "metadata": {},
   "outputs": [],
   "source": [
    "# Этот пример показывает, что мы в своих дочерних классах можем переопределять поведение методов родительских классов.\n",
    "# В том числе магических. Например метод __add__ был у наследован классом Person от родительского object.\n",
    "# Эта работает опять же благодаря принципе поиска имен. Если python находит метод в дочернем классе, то он его и использует, если не находит идет выше по цепочке наследования. Называют такое поведение перегрузкой методов.\n",
    "# Полиморфизм относится больше к магическим методам, которых достаточно много.\n",
    "# Прикладываю файл перегружающих методов и описание за что каждый из них отвечает."
   ]
  },
  {
   "cell_type": "code",
   "execution_count": 14,
   "metadata": {},
   "outputs": [],
   "source": [
    "# Приведем более интересный пример.\n",
    "# Задача к площади одной комнаты с известными размерами прибавить площадь другой комнаты с данными размерами.\n",
    "class Room:\n",
    "    def __init__(self, x, y):\n",
    "        self.x = x\n",
    "        self.y = y\n",
    "        self.area = self.x * self.y\n",
    "        \n",
    "    def __add__(self, room_obj):\n",
    "        if isinstance(room_obj, Room):\n",
    "            return self.area + room_obj.area\n",
    "        raise TypeError('Wrong object')\n",
    "        \n",
    "r1 = Room(3, 5)\n",
    "r2 = Room(4, 7)"
   ]
  },
  {
   "cell_type": "code",
   "execution_count": 16,
   "metadata": {},
   "outputs": [
    {
     "data": {
      "text/plain": [
       "15"
      ]
     },
     "execution_count": 16,
     "metadata": {},
     "output_type": "execute_result"
    }
   ],
   "source": [
    "r1.area"
   ]
  },
  {
   "cell_type": "code",
   "execution_count": 17,
   "metadata": {},
   "outputs": [
    {
     "data": {
      "text/plain": [
       "28"
      ]
     },
     "execution_count": 17,
     "metadata": {},
     "output_type": "execute_result"
    }
   ],
   "source": [
    "r2.area"
   ]
  },
  {
   "cell_type": "code",
   "execution_count": 18,
   "metadata": {},
   "outputs": [
    {
     "data": {
      "text/plain": [
       "43"
      ]
     },
     "execution_count": 18,
     "metadata": {},
     "output_type": "execute_result"
    }
   ],
   "source": [
    "r1 + r2"
   ]
  },
  {
   "cell_type": "code",
   "execution_count": 19,
   "metadata": {},
   "outputs": [
    {
     "data": {
      "text/plain": [
       "False"
      ]
     },
     "execution_count": 19,
     "metadata": {},
     "output_type": "execute_result"
    }
   ],
   "source": [
    "# Для примера можно добавить сравнение комнат по площади.\n",
    "# За равенство обозначенно двумя знаками равно отвечает метод __eq__:\n",
    "class Room:\n",
    "    def __init__(self, x, y):\n",
    "        self.x = x\n",
    "        self.y = y\n",
    "        self.area = self.x * self.y\n",
    "        \n",
    "    def __add__(self, room_obj):\n",
    "        if isinstance(room_obj, Room):\n",
    "            return self.area + room_obj.area\n",
    "        raise TypeError('Wrong object')\n",
    "        \n",
    "    def __eq__(self, room_obj): # далее надо бы снова проверить является ли room_obj экземпляром класса Room, но для упрощения пропускаем этот шаг\n",
    "        if self.area == room_obj.area: # как вариант return self.area == room_obj.area\n",
    "            return True\n",
    "        return False\n",
    "\n",
    "        \n",
    "r1 = Room(3, 5)\n",
    "r2 = Room(4, 7)\n",
    "\n",
    "r1 == r2"
   ]
  },
  {
   "cell_type": "code",
   "execution_count": 20,
   "metadata": {},
   "outputs": [],
   "source": [
    "# Т.е. не равны."
   ]
  },
  {
   "cell_type": "code",
   "execution_count": 21,
   "metadata": {},
   "outputs": [],
   "source": [
    "# Все это реализуется с помощью дандер методов (магических), т.е. тех, которые имеют два подчеркивания спереди и два подчеркивания сзади."
   ]
  },
  {
   "cell_type": "code",
   "execution_count": 22,
   "metadata": {},
   "outputs": [],
   "source": [
    "# Есть дандер методы для реализации контекстных менеджеров:\n",
    "# __enter__\n",
    "# __exit__\n",
    "# Есть для реализации различных последовательностей:\n",
    "# __getitem__\n",
    "# __setitem__\n",
    "# __delitem__\n",
    "# Для итерируемых объектов - итераторов:\n",
    "# __iter__\n",
    "# __next__\n",
    "# В том числе с использование ключегого слова:\n",
    "# __contains__\n",
    "\n",
    "# И т.д. их много."
   ]
  }
 ],
 "metadata": {
  "kernelspec": {
   "display_name": "Python 3",
   "language": "python",
   "name": "python3"
  },
  "language_info": {
   "codemirror_mode": {
    "name": "ipython",
    "version": 3
   },
   "file_extension": ".py",
   "mimetype": "text/x-python",
   "name": "python",
   "nbconvert_exporter": "python",
   "pygments_lexer": "ipython3",
   "version": "3.8.5"
  }
 },
 "nbformat": 4,
 "nbformat_minor": 4
}
