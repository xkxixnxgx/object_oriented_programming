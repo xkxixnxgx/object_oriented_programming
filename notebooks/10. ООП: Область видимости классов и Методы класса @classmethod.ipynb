{
 "cells": [
  {
   "cell_type": "code",
   "execution_count": 1,
   "metadata": {},
   "outputs": [],
   "source": [
    "# Для начала разберемся в чем разница между пространством имен и областью видимости.\n",
    "# Пространство имен это чаще всего обычный словарь - конкретный объект в котором хранятся имена и их значения.\n",
    "# Самое важное, что надо понимать - нет никакой связи между именами определенными в разных пространствах мен.\n",
    "# Область видимости - это путь, по которому python ищет определение имени в пространствах имен.\n",
    "# По сути это перечисление словарей через запятую, которые перебираются последовательно, когда python ищет определение имени.\n",
    "# Делается это по правилу, которое получило название LEGB:\n",
    "#     Local - локальная область видимости\n",
    "#     Enclosed - вложенная область видимости\n",
    "#     Global - глобальная, т.е. уровень конкретного модуля\n",
    "#     Builtins - уровень модуля builtins\n",
    "# Python когда ищет в пространствах имен идет последовательно изнутри наружу.\n",
    "# Из этого правила есть три исключения:\n",
    "# 1. Определение классов\n",
    "# 2. Порядок разрешения аргументов функции eval()\n",
    "# 3. Порядок разрешения аргументов функции exec()\n",
    "# Сейчас нас интересует первый вариант касательно класса."
   ]
  },
  {
   "cell_type": "code",
   "execution_count": 2,
   "metadata": {},
   "outputs": [
    {
     "name": "stdout",
     "output_type": "stream",
     "text": [
      "Ivan\n"
     ]
    }
   ],
   "source": [
    "#  Пример, в котором пространства имен объекта и класса независимы и параллельны, а переменная name перется из глобальной области видимости:\n",
    "name = 'Ivan'\n",
    "\n",
    "class Person:\n",
    "    name = 'Dima'\n",
    "    \n",
    "    def print_name(self):\n",
    "        print(name)\n",
    "\n",
    "p = Person()\n",
    "p.print_name()"
   ]
  },
  {
   "cell_type": "code",
   "execution_count": 3,
   "metadata": {},
   "outputs": [],
   "source": [
    "# Казалось бы по общему правилу функция print_name находится во вложенной области видимости переменной name = 'Doma'.\n",
    "# Но мы видим 'Ivan', определенной в глобальной области видимости."
   ]
  },
  {
   "cell_type": "code",
   "execution_count": 4,
   "metadata": {},
   "outputs": [],
   "source": [
    "# Ключевое слово class - это оператор, который может использовать и определять имена.\n",
    "# Поиск и определение этих имен, т.е. разрешение (resolution) имен выполняется по общему правилу за одним исключением.\n",
    "# Несвязанные локальные перменные (unbound local variables) ищутся в глобальном пространстве имен."
   ]
  },
  {
   "cell_type": "code",
   "execution_count": 5,
   "metadata": {},
   "outputs": [
    {
     "ename": "UnboundLocalError",
     "evalue": "local variable 'x' referenced before assignment",
     "output_type": "error",
     "traceback": [
      "\u001b[0;31m---------------------------------------------------------------------------\u001b[0m",
      "\u001b[0;31mUnboundLocalError\u001b[0m                         Traceback (most recent call last)",
      "\u001b[0;32m<ipython-input-5-3cdb3f600ef1>\u001b[0m in \u001b[0;36m<module>\u001b[0;34m\u001b[0m\n\u001b[1;32m      6\u001b[0m     \u001b[0mprint\u001b[0m\u001b[0;34m(\u001b[0m\u001b[0mx\u001b[0m\u001b[0;34m)\u001b[0m\u001b[0;34m\u001b[0m\u001b[0;34m\u001b[0m\u001b[0m\n\u001b[1;32m      7\u001b[0m \u001b[0;34m\u001b[0m\u001b[0m\n\u001b[0;32m----> 8\u001b[0;31m \u001b[0ma\u001b[0m\u001b[0;34m(\u001b[0m\u001b[0;34m)\u001b[0m\u001b[0;34m\u001b[0m\u001b[0;34m\u001b[0m\u001b[0m\n\u001b[0m",
      "\u001b[0;32m<ipython-input-5-3cdb3f600ef1>\u001b[0m in \u001b[0;36ma\u001b[0;34m()\u001b[0m\n\u001b[1;32m      3\u001b[0m \u001b[0;34m\u001b[0m\u001b[0m\n\u001b[1;32m      4\u001b[0m \u001b[0;32mdef\u001b[0m \u001b[0ma\u001b[0m\u001b[0;34m(\u001b[0m\u001b[0;34m)\u001b[0m\u001b[0;34m:\u001b[0m\u001b[0;34m\u001b[0m\u001b[0;34m\u001b[0m\u001b[0m\n\u001b[0;32m----> 5\u001b[0;31m     \u001b[0mx\u001b[0m \u001b[0;34m=\u001b[0m \u001b[0mx\u001b[0m \u001b[0;34m+\u001b[0m \u001b[0;36m1\u001b[0m\u001b[0;34m\u001b[0m\u001b[0;34m\u001b[0m\u001b[0m\n\u001b[0m\u001b[1;32m      6\u001b[0m     \u001b[0mprint\u001b[0m\u001b[0;34m(\u001b[0m\u001b[0mx\u001b[0m\u001b[0;34m)\u001b[0m\u001b[0;34m\u001b[0m\u001b[0;34m\u001b[0m\u001b[0m\n\u001b[1;32m      7\u001b[0m \u001b[0;34m\u001b[0m\u001b[0m\n",
      "\u001b[0;31mUnboundLocalError\u001b[0m: local variable 'x' referenced before assignment"
     ]
    }
   ],
   "source": [
    "# Пример несвязанных локальных переменных, который дает исключение:\n",
    "x = 1\n",
    "\n",
    "def a():\n",
    "    x = x + 1\n",
    "    print(x)\n",
    "\n",
    "a()"
   ]
  },
  {
   "cell_type": "code",
   "execution_count": 6,
   "metadata": {},
   "outputs": [],
   "source": [
    "# Локальная переменная x использована до того как ей присвоено значение.\n",
    "# Python может создать переменную, только если она связана со значением по ссылке.\n",
    "# Т.е. значение уже есть и к нему привязывается переменная (ссылка).\n",
    "# В строке 5 исключения первая x, которую пайтону нужно создать, вносится в список локальных переменных.\n",
    "# Когда он доходит до второго x, она уже становится не связанной со значением, т.е. у нее нет значения и вызывается исключение."
   ]
  },
  {
   "cell_type": "code",
   "execution_count": 7,
   "metadata": {},
   "outputs": [],
   "source": [
    "# В классе же согласно исключению из общего правила исключение unbound local variables не вызывается, а ищется в глобальной области видимости.\n",
    "# Поэтому мы получаем 'Ivan.'\n",
    "# Функция print_name() это локальная область, а не вложенная.\n",
    "# У класса как объекта своя локальная область и у экземпляра своя локальная область.\n",
    "# Это похоже на то, когда у нас есть две функции, каждая из которых не видит переменные друг друга, т.к. это разные локальные области видимости.\n",
    "# Другими словами области видимости методов экземпляра класса не являются вложенными в область видимости самого класса."
   ]
  },
  {
   "cell_type": "code",
   "execution_count": 8,
   "metadata": {},
   "outputs": [
    {
     "name": "stdout",
     "output_type": "stream",
     "text": [
      "Dima\n"
     ]
    }
   ],
   "source": [
    "# До свойства самого класса name = 'Dima' можно дотянуться через self:\n",
    "class Person:\n",
    "    name = 'Dima'\n",
    "    \n",
    "    def print_name(self):\n",
    "        print(self.name)\n",
    "\n",
    "p = Person()\n",
    "p.print_name()"
   ]
  },
  {
   "cell_type": "code",
   "execution_count": 10,
   "metadata": {},
   "outputs": [
    {
     "name": "stdout",
     "output_type": "stream",
     "text": [
      "{}\n",
      "Dima\n"
     ]
    }
   ],
   "source": [
    "# Таким способом можно только прочитать значение свойства класса.\n",
    "# Присвоить новое значение мы не сможем, т.к. python создаст новое свойство с таким же именем в экземпляре класса.\n",
    "class Person:\n",
    "    name = 'Dima'\n",
    "    \n",
    "    def print_name(self):\n",
    "        print(self.name)\n",
    "\n",
    "p = Person()\n",
    "print(p.__dict__)\n",
    "p.print_name()"
   ]
  },
  {
   "cell_type": "code",
   "execution_count": 12,
   "metadata": {},
   "outputs": [
    {
     "name": "stdout",
     "output_type": "stream",
     "text": [
      "Instance dict: {'name': 'sgbdsbnnyn'}\n",
      "Person.name: Dima\n"
     ]
    }
   ],
   "source": [
    "p.name = 'sgbdsbnnyn'\n",
    "print('Instance dict:', p.__dict__)\n",
    "print('Person.name:', Person.name)"
   ]
  },
  {
   "cell_type": "code",
   "execution_count": 13,
   "metadata": {},
   "outputs": [],
   "source": [
    "# Видим, что можем только читать свойства класса, но не изменять их.\n",
    "# Чтобы иметь возможность изменять свойства родительского класса можно использовать декоратор @classmethod.\n",
    "# Методы класса в качестве первого аргумента получают сам класс как объект.\n",
    "# После чего мы сможем обратиться к переменной name = 'Dima' через объект класса.\n",
    "# При написании таких методов следует заменить self на cls, чтобы было более наглядно."
   ]
  },
  {
   "cell_type": "code",
   "execution_count": 15,
   "metadata": {},
   "outputs": [
    {
     "name": "stdout",
     "output_type": "stream",
     "text": [
      "{}\n"
     ]
    }
   ],
   "source": [
    "# Посмотрим как это работает:\n",
    "class Person:\n",
    "    name = 'Dima'\n",
    "    \n",
    "    @classmethod\n",
    "    def change_name(cls, name):\n",
    "        cls.name = name\n",
    "\n",
    "p = Person()\n",
    "print(p.__dict__)\n",
    "p.change_name('sjkhvlkshvlhs')"
   ]
  },
  {
   "cell_type": "code",
   "execution_count": 16,
   "metadata": {},
   "outputs": [
    {
     "name": "stdout",
     "output_type": "stream",
     "text": [
      "Instance dict: {}\n",
      "Person.name: sjkhvlkshvlhs\n"
     ]
    }
   ],
   "source": [
    "print('Instance dict:', p.__dict__)\n",
    "print('Person.name:', Person.name)"
   ]
  },
  {
   "cell_type": "code",
   "execution_count": 17,
   "metadata": {},
   "outputs": [],
   "source": [
    "# Методы класса тоже являются связанными методами, но связываются не с экземпляром класса, а с самим классом.\n",
    "# До моменты создания экземпляра класса, они являются функциями как мы знаем.\n",
    "# После создания экземпляра методы класса становятся также и методами экземпляра класса.\n",
    "# Следовательно могут быть вызваны как из самого класса, так и из любого экземпляра класса.\n",
    "# Такие методы получают в качестве объекта сам класс, а не экземпляр.\n",
    "# Результат исполнения метода класса глобальны для всех экземпляров этого класса.\n",
    "# И точно также как сам класс, методы класса не имеют доступа к пространству имен экземпляра класса."
   ]
  },
  {
   "cell_type": "code",
   "execution_count": 19,
   "metadata": {},
   "outputs": [],
   "source": [
    "# Это полезно для глобальных изменений класса. Например изменить настройки чего-то.\n",
    "# Например когда данные об этих настройках хранятся в свойствах класса.\n",
    "# Распространенный пример - это создание альтернативных инициализаторов."
   ]
  },
  {
   "cell_type": "code",
   "execution_count": 20,
   "metadata": {},
   "outputs": [],
   "source": [
    "# Например нам нужно использовать настройки из разных источников, но мы не можем сделать несколько методов __init__, чтобы проинициализировать свойства класса, в которых будут содержатся настройки."
   ]
  },
  {
   "cell_type": "code",
   "execution_count": 21,
   "metadata": {},
   "outputs": [],
   "source": [
    "# Напишем класс, который будет инициализировать переменную name в зависимости от вызова различных методов:\n",
    "class Person:\n",
    "    def __init__(self, name):\n",
    "        self.name = name\n",
    "    \n",
    "    @classmethod\n",
    "    def from_file(cls, path):\n",
    "        with open(path) as f:\n",
    "            name = f.read().strip()\n",
    "        return cls(name=name)\n",
    "    \n",
    "    @classmethod\n",
    "    def from_obj(cls, obj):\n",
    "        if hasattr(obj, 'name'):\n",
    "            name = getattr(obj, 'name')\n",
    "            return cls(name=name)\n",
    "        return cls"
   ]
  },
  {
   "cell_type": "code",
   "execution_count": 22,
   "metadata": {},
   "outputs": [
    {
     "data": {
      "text/plain": [
       "{'name': 'Oleg'}"
      ]
     },
     "execution_count": 22,
     "metadata": {},
     "output_type": "execute_result"
    }
   ],
   "source": [
    "# Проверим работу класса с разными настройками для name.\n",
    "# Вариант когда переменная инициализируется при создании экземпляра:\n",
    "p = Person('Oleg')\n",
    "p.__dict__"
   ]
  },
  {
   "cell_type": "code",
   "execution_count": 23,
   "metadata": {},
   "outputs": [
    {
     "data": {
      "text/plain": [
       "'Oleg'"
      ]
     },
     "execution_count": 23,
     "metadata": {},
     "output_type": "execute_result"
    }
   ],
   "source": [
    "p.name"
   ]
  },
  {
   "cell_type": "code",
   "execution_count": 25,
   "metadata": {},
   "outputs": [
    {
     "data": {
      "text/plain": [
       "{'name': 'Alena'}"
      ]
     },
     "execution_count": 25,
     "metadata": {},
     "output_type": "execute_result"
    }
   ],
   "source": [
    "# Вариант, когда переменной name присваивается значение из файла:\n",
    "p = Person.from_file('test.txt')\n",
    "p.__dict__"
   ]
  },
  {
   "cell_type": "code",
   "execution_count": 26,
   "metadata": {},
   "outputs": [
    {
     "data": {
      "text/plain": [
       "'Alena'"
      ]
     },
     "execution_count": 26,
     "metadata": {},
     "output_type": "execute_result"
    }
   ],
   "source": [
    "p.name"
   ]
  },
  {
   "cell_type": "code",
   "execution_count": 27,
   "metadata": {},
   "outputs": [
    {
     "data": {
      "text/plain": [
       "{'name': 'Igor'}"
      ]
     },
     "execution_count": 27,
     "metadata": {},
     "output_type": "execute_result"
    }
   ],
   "source": [
    "# Вариант, когда переменной name присваивается значение из другого класса (или объекта):\n",
    "class Config:\n",
    "    name = 'Igor'\n",
    "\n",
    "p = Person.from_obj(Config)\n",
    "p.__dict__    "
   ]
  },
  {
   "cell_type": "code",
   "execution_count": 28,
   "metadata": {},
   "outputs": [
    {
     "data": {
      "text/plain": [
       "'Igor'"
      ]
     },
     "execution_count": 28,
     "metadata": {},
     "output_type": "execute_result"
    }
   ],
   "source": [
    "p.name"
   ]
  }
 ],
 "metadata": {
  "kernelspec": {
   "display_name": "Python 3",
   "language": "python",
   "name": "python3"
  },
  "language_info": {
   "codemirror_mode": {
    "name": "ipython",
    "version": 3
   },
   "file_extension": ".py",
   "mimetype": "text/x-python",
   "name": "python",
   "nbconvert_exporter": "python",
   "pygments_lexer": "ipython3",
   "version": "3.8.5"
  }
 },
 "nbformat": 4,
 "nbformat_minor": 4
}
