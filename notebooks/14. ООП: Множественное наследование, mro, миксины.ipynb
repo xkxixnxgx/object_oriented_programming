{
 "cells": [
  {
   "cell_type": "code",
   "execution_count": 1,
   "metadata": {},
   "outputs": [],
   "source": [
    "# Множественное наследование - это когда в качестве родительского класса мы указываем несколько классов через запятую.\n",
    "# Что порождает проблему ромбовидного наследования.\n",
    "# В англоязычной среде это называется diamond problem.\n",
    "# Суть проблемы в том. что когда от одного класса наследуются два, а от них обоих наследуется один (множественное наследование), то при вызове метода, который определен в обоих классах родителях, непонятно от какого класса они будет наследовать такой метод."
   ]
  },
  {
   "cell_type": "code",
   "execution_count": 3,
   "metadata": {},
   "outputs": [
    {
     "name": "stdout",
     "output_type": "stream",
     "text": [
      "I am Prof\n"
     ]
    }
   ],
   "source": [
    "# Проблема решается с помощью принципа mro() (Method Resolytion Order) порядка разрешения методов.\n",
    "# Суть его в том, что преоритет имеет тот класс который перечислен раньше в списке классов, от которых наследуется класс.\n",
    "class Person:\n",
    "    def hello(self):\n",
    "        print('I am Person')\n",
    "        \n",
    "\n",
    "class Student(Person):\n",
    "    def hello(self):\n",
    "        print('I am Student')\n",
    "        \n",
    "        \n",
    "class Prof(Person):\n",
    "    def hello(self):\n",
    "        print('I am Prof')\n",
    "\n",
    "        \n",
    "class Someone(Prof, Student):\n",
    "    pass\n",
    "\n",
    "\n",
    "s = Someone()\n",
    "s.hello()"
   ]
  },
  {
   "cell_type": "code",
   "execution_count": 4,
   "metadata": {},
   "outputs": [
    {
     "name": "stdout",
     "output_type": "stream",
     "text": [
      "I am Student\n"
     ]
    }
   ],
   "source": [
    "# Если же поменять местами родительские классы, то получим другой результат.\n",
    "class Someone(Student, Prof):\n",
    "    pass\n",
    "\n",
    "\n",
    "s = Someone()\n",
    "s.hello()"
   ]
  },
  {
   "cell_type": "code",
   "execution_count": 5,
   "metadata": {},
   "outputs": [],
   "source": [
    "# Слово миксин происходит от mix in, т.е. примесь.\n",
    "# Это классы имеющие како-то небольшой функционал, которые подмешиваются к другим классам, засчет того, что тоже становятся родителем другого класса.\n",
    "# Миксины предусматривают их использование только вместе с другими основными классами, расширяя или изменяя какой-то основной функционал для дочернего класса.\n",
    "# Создание экземпляров у миксинов не предполагается."
   ]
  },
  {
   "cell_type": "code",
   "execution_count": 9,
   "metadata": {},
   "outputs": [
    {
     "name": "stdout",
     "output_type": "stream",
     "text": [
      "I like Pizza\n"
     ]
    }
   ],
   "source": [
    "# Создадим миксин FoodMixin:\n",
    "class FoodMixin:\n",
    "    food = None\n",
    "    \n",
    "    def get_food(self):\n",
    "        if self.food is None:\n",
    "            raise ValueError('Food should be set')\n",
    "        print(f'I like {self.food}')\n",
    "        \n",
    "\n",
    "class Person:\n",
    "    \n",
    "    def hello(self):\n",
    "        print('I am Person')\n",
    "        \n",
    "\n",
    "class Student(Person, FoodMixin):\n",
    "    food = 'Pizza'\n",
    "    \n",
    "    def hello(self):\n",
    "        print('I am Student')\n",
    "        \n",
    "\n",
    "s = Student()\n",
    "s.get_food()"
   ]
  },
  {
   "cell_type": "code",
   "execution_count": 10,
   "metadata": {},
   "outputs": [],
   "source": [
    "# Миксины полезно использовать когда нам нужно дополнить класс необязательной, опциональной функциональностью.\n",
    "# Также когда надо добавить одну каку-то функциональность большому количеству несвязанных родственными узами классов.\n",
    "# В треках по Django и Flask использовали в аутентификации пользователя. \n",
    "# Также с помощью миксином устанавливали контекстные переменные, которые использовались потом в шаблонах и получали соответсвующие объекты из базы данных."
   ]
  }
 ],
 "metadata": {
  "kernelspec": {
   "display_name": "Python 3",
   "language": "python",
   "name": "python3"
  },
  "language_info": {
   "codemirror_mode": {
    "name": "ipython",
    "version": 3
   },
   "file_extension": ".py",
   "mimetype": "text/x-python",
   "name": "python",
   "nbconvert_exporter": "python",
   "pygments_lexer": "ipython3",
   "version": "3.8.5"
  }
 },
 "nbformat": 4,
 "nbformat_minor": 4
}
