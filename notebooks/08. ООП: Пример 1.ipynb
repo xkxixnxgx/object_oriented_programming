{
 "cells": [
  {
   "cell_type": "code",
   "execution_count": 1,
   "metadata": {},
   "outputs": [],
   "source": [
    "# В качестве примера взаимодействия объектов возьмем класс описывающий банковский счет."
   ]
  },
  {
   "cell_type": "code",
   "execution_count": 2,
   "metadata": {},
   "outputs": [],
   "source": [
    "# Для начала создадим класс со свойствами name (название счета), balance (начальный баланс):\n",
    "class Account:\n",
    "    def __init__(self, name, balance):\n",
    "        self.name = name\n",
    "        self.balance = balance"
   ]
  },
  {
   "cell_type": "code",
   "execution_count": 15,
   "metadata": {},
   "outputs": [],
   "source": [
    "# Теперь подумаем над тем, какие методы нам нужны.\n",
    "# Очевидно на счет нужно принимать средства и с него нужно платить. Глаголы тут подсказывают какие методы нам потребуются.\n",
    "class Account:\n",
    "    def __init__(self, name, balance):\n",
    "        self.name = name\n",
    "        self.balance = balance\n",
    "        \n",
    "    def deposit(self, amount):\n",
    "        self.balance += amount\n",
    "        \n",
    "    def withdraw(self, amount):\n",
    "        if self.balance > amount:\n",
    "            self.balance -= amount\n",
    "            print(f'You spent {amount} units.')\n",
    "        else:\n",
    "            print('No enough money.')\n",
    "    \n",
    "    def show_balance(self):\n",
    "        print(f'Balance: {self.balance}')\n",
    "    "
   ]
  },
  {
   "cell_type": "code",
   "execution_count": 16,
   "metadata": {},
   "outputs": [],
   "source": [
    "# Создадим аккаунт:\n",
    "a = Account('yury', 0)"
   ]
  },
  {
   "cell_type": "code",
   "execution_count": 17,
   "metadata": {},
   "outputs": [
    {
     "name": "stdout",
     "output_type": "stream",
     "text": [
      "Balance: 0\n"
     ]
    }
   ],
   "source": [
    "# Проверим как это работает:\n",
    "a.show_balance()"
   ]
  },
  {
   "cell_type": "code",
   "execution_count": 18,
   "metadata": {},
   "outputs": [
    {
     "name": "stdout",
     "output_type": "stream",
     "text": [
      "Balance: 100\n"
     ]
    }
   ],
   "source": [
    "a.deposit(100)\n",
    "a.show_balance()"
   ]
  },
  {
   "cell_type": "code",
   "execution_count": 19,
   "metadata": {
    "scrolled": true
   },
   "outputs": [
    {
     "name": "stdout",
     "output_type": "stream",
     "text": [
      "You spent 50 units.\n",
      "Balance: 50\n"
     ]
    }
   ],
   "source": [
    "a.withdraw(50)\n",
    "a.show_balance()"
   ]
  },
  {
   "cell_type": "code",
   "execution_count": 20,
   "metadata": {},
   "outputs": [
    {
     "name": "stdout",
     "output_type": "stream",
     "text": [
      "No enough money.\n",
      "Balance: 50\n"
     ]
    }
   ],
   "source": [
    "a.withdraw(55)\n",
    "a.show_balance()"
   ]
  },
  {
   "cell_type": "code",
   "execution_count": 21,
   "metadata": {},
   "outputs": [],
   "source": [
    "# Добавим метод shaw_balance в каждый метод, чтобы не проверять баланс в ручную:\n",
    "class Account:\n",
    "    def __init__(self, name, balance):\n",
    "        self.name = name\n",
    "        self.balance = balance\n",
    "        \n",
    "    def deposit(self, amount):\n",
    "        self.balance += amount\n",
    "        self.show_balance()\n",
    "        \n",
    "    def withdraw(self, amount):\n",
    "        if self.balance > amount:\n",
    "            self.balance -= amount\n",
    "            print(f'You spent {amount} units.')\n",
    "            self.show_balance()\n",
    "        else:\n",
    "            print('No enough money.')\n",
    "            self.show_balance()\n",
    "    \n",
    "    def show_balance(self):\n",
    "        print(f'Balance: {self.balance}')"
   ]
  },
  {
   "cell_type": "code",
   "execution_count": 35,
   "metadata": {},
   "outputs": [],
   "source": [
    "# Нам понадобиться история операций. Для этого добавим еще одно свойство history:\n",
    "from datetime import datetime\n",
    "import pytz\n",
    "\n",
    "WHITE = '\\033[00m'\n",
    "GREEN = '\\033[0;92m'\n",
    "RED = '\\033[1;31m'\n",
    "\n",
    "class Account:\n",
    "    def __init__(self, name, balance):\n",
    "        self.name = name\n",
    "        self.balance = balance\n",
    "        self.history = []\n",
    "        \n",
    "    def deposit(self, amount):\n",
    "        self.balance += amount\n",
    "        self.show_balance()\n",
    "        self.history.append([amount, pytz.utc.localize(datetime.utcnow())]) # добавляем сумму депозита и время проведения операции с помощью библиотеки pytz\n",
    "        \n",
    "    def withdraw(self, amount):\n",
    "        if self.balance > amount:\n",
    "            self.balance -= amount\n",
    "            print(f'You spent {amount} units.')\n",
    "            self.show_balance()\n",
    "            self.history.append([-amount, pytz.utc.localize(datetime.utcnow())])\n",
    "        else:\n",
    "            print('No enough money.')\n",
    "            self.show_balance()\n",
    "    \n",
    "    def show_balance(self):\n",
    "        print(f'Balance: {self.balance}')\n",
    "        \n",
    "    def show_history(self): # добавляем метод для просмотра баланса\n",
    "        for amount, date in self.history:\n",
    "            if amount > 0:\n",
    "                transaction = 'deposited'\n",
    "                color = GREEN\n",
    "            else:\n",
    "                transaction = 'withdraw'\n",
    "                color = RED\n",
    "            print(f'{color} {amount} {WHITE} {transaction} on {date.astimezone()}')"
   ]
  },
  {
   "cell_type": "code",
   "execution_count": 36,
   "metadata": {},
   "outputs": [
    {
     "name": "stdout",
     "output_type": "stream",
     "text": [
      "Balance: 100\n"
     ]
    }
   ],
   "source": [
    "# Проверим как это работает:\n",
    "a = Account('yury', 0)\n",
    "a.deposit(100)"
   ]
  },
  {
   "cell_type": "code",
   "execution_count": 37,
   "metadata": {
    "scrolled": false
   },
   "outputs": [
    {
     "name": "stdout",
     "output_type": "stream",
     "text": [
      "Balance: 150\n"
     ]
    }
   ],
   "source": [
    "a.deposit(50)"
   ]
  },
  {
   "cell_type": "code",
   "execution_count": 38,
   "metadata": {
    "scrolled": false
   },
   "outputs": [
    {
     "name": "stdout",
     "output_type": "stream",
     "text": [
      "You spent 80 units.\n",
      "Balance: 70\n"
     ]
    }
   ],
   "source": [
    "a.withdraw(80)"
   ]
  },
  {
   "cell_type": "code",
   "execution_count": 39,
   "metadata": {
    "scrolled": true
   },
   "outputs": [
    {
     "name": "stdout",
     "output_type": "stream",
     "text": [
      "\u001b[0;92m 100 \u001b[00m deposited on 2020-10-02 14:25:07.240241+03:00\n",
      "\u001b[0;92m 50 \u001b[00m deposited on 2020-10-02 14:25:09.658677+03:00\n",
      "\u001b[1;31m -80 \u001b[00m withdraw on 2020-10-02 14:25:11.555021+03:00\n"
     ]
    }
   ],
   "source": [
    "a.show_history()"
   ]
  },
  {
   "cell_type": "code",
   "execution_count": 40,
   "metadata": {},
   "outputs": [],
   "source": [
    "# В классе есть избыточность кода. Давайте вынесем в приватный метод функцию, которая будет возвращать лакальное время:\n",
    "from datetime import datetime\n",
    "import pytz\n",
    "\n",
    "WHITE = '\\033[00m'\n",
    "GREEN = '\\033[0;92m'\n",
    "RED = '\\033[1;31m'\n",
    "\n",
    "class Account:\n",
    "    def __init__(self, name, balance):\n",
    "        self.name = name\n",
    "        self.balance = balance\n",
    "        self.history = []\n",
    "        \n",
    "    def _get_current_time(self):\n",
    "        return pytz.utc.localize(datetime.utcnow())\n",
    "        \n",
    "    def deposit(self, amount):\n",
    "        self.balance += amount\n",
    "        self.show_balance()\n",
    "        self.history.append([amount, self._get_current_time()]) # добавляем сумму депозита и время проведения операции с помощью библиотеки pytz\n",
    "        \n",
    "    def withdraw(self, amount):\n",
    "        if self.balance > amount:\n",
    "            self.balance -= amount\n",
    "            print(f'You spent {amount} units.')\n",
    "            self.show_balance()\n",
    "            self.history.append([-amount, self._get_current_time()])\n",
    "        else:\n",
    "            print('No enough money.')\n",
    "            self.show_balance()\n",
    "    \n",
    "    def show_balance(self):\n",
    "        print(f'Balance: {self.balance}')\n",
    "        \n",
    "    def show_history(self): # добавляем метод для просмотра баланса\n",
    "        for amount, date in self.history:\n",
    "            if amount > 0:\n",
    "                transaction = 'deposited'\n",
    "                color = GREEN\n",
    "            else:\n",
    "                transaction = 'withdraw'\n",
    "                color = RED\n",
    "            print(f'{color} {amount} {WHITE} {transaction} on {date.astimezone()}')"
   ]
  },
  {
   "cell_type": "code",
   "execution_count": 41,
   "metadata": {},
   "outputs": [
    {
     "name": "stdout",
     "output_type": "stream",
     "text": [
      "Balance: 150\n",
      "Balance: 300\n",
      "Balance: 370\n",
      "You spent 200 units.\n",
      "Balance: 170\n"
     ]
    }
   ],
   "source": [
    "# Проверим как это работает:\n",
    "a = Account('yury', 100)\n",
    "a.deposit(50)\n",
    "a.deposit(150)\n",
    "a.deposit(70)\n",
    "a.withdraw(200)"
   ]
  },
  {
   "cell_type": "code",
   "execution_count": 42,
   "metadata": {},
   "outputs": [
    {
     "name": "stdout",
     "output_type": "stream",
     "text": [
      "\u001b[0;92m 50 \u001b[00m deposited on 2020-10-02 14:37:22.798053+03:00\n",
      "\u001b[0;92m 150 \u001b[00m deposited on 2020-10-02 14:37:22.798191+03:00\n",
      "\u001b[0;92m 70 \u001b[00m deposited on 2020-10-02 14:37:22.798379+03:00\n",
      "\u001b[1;31m -200 \u001b[00m withdraw on 2020-10-02 14:37:22.798617+03:00\n"
     ]
    }
   ],
   "source": [
    "a.show_history()"
   ]
  },
  {
   "cell_type": "code",
   "execution_count": 45,
   "metadata": {},
   "outputs": [],
   "source": [
    "# Теперь посмотрим на наш приватный метод _get_current_time, который нигде не используется.\n",
    "# Следовательно его лучше сделать статическим методом:\n",
    "from datetime import datetime\n",
    "import pytz\n",
    "\n",
    "WHITE = '\\033[00m'\n",
    "GREEN = '\\033[0;92m'\n",
    "RED = '\\033[1;31m'\n",
    "\n",
    "class Account:\n",
    "    def __init__(self, name, balance):\n",
    "        self.name = name\n",
    "        self.balance = balance\n",
    "        self.history = []\n",
    "    \n",
    "    @staticmethod\n",
    "    def _get_current_time():\n",
    "        return pytz.utc.localize(datetime.utcnow())\n",
    "        \n",
    "    def deposit(self, amount):\n",
    "        self.balance += amount\n",
    "        self.show_balance()\n",
    "        self.history.append([amount, self._get_current_time()]) # добавляем сумму депозита и время проведения операции с помощью библиотеки pytz\n",
    "        \n",
    "    def withdraw(self, amount):\n",
    "        if self.balance > amount:\n",
    "            self.balance -= amount\n",
    "            print(f'You spent {amount} units.')\n",
    "            self.show_balance()\n",
    "            self.history.append([-amount, self._get_current_time()])\n",
    "        else:\n",
    "            print('No enough money.')\n",
    "            self.show_balance()\n",
    "    \n",
    "    def show_balance(self):\n",
    "        print(f'Balance: {self.balance}')\n",
    "        \n",
    "    def show_history(self): # добавляем метод для просмотра баланса\n",
    "        for amount, date in self.history:\n",
    "            if amount > 0:\n",
    "                transaction = 'deposited'\n",
    "                color = GREEN\n",
    "            else:\n",
    "                transaction = 'withdraw'\n",
    "                color = RED\n",
    "            print(f'{color} {amount} {WHITE} {transaction} on {date.astimezone()}')"
   ]
  },
  {
   "cell_type": "code",
   "execution_count": 46,
   "metadata": {},
   "outputs": [
    {
     "name": "stdout",
     "output_type": "stream",
     "text": [
      "Balance: 150\n",
      "Balance: 300\n",
      "Balance: 370\n",
      "You spent 200 units.\n",
      "Balance: 170\n"
     ]
    }
   ],
   "source": [
    "# Проверим работу класса:\n",
    "a = Account('yury', 100)\n",
    "a.deposit(50)\n",
    "a.deposit(150)\n",
    "a.deposit(70)\n",
    "a.withdraw(200)"
   ]
  },
  {
   "cell_type": "code",
   "execution_count": 47,
   "metadata": {},
   "outputs": [
    {
     "name": "stdout",
     "output_type": "stream",
     "text": [
      "\u001b[0;92m 50 \u001b[00m deposited on 2020-10-02 14:43:29.380168+03:00\n",
      "\u001b[0;92m 150 \u001b[00m deposited on 2020-10-02 14:43:29.380272+03:00\n",
      "\u001b[0;92m 70 \u001b[00m deposited on 2020-10-02 14:43:29.380366+03:00\n",
      "\u001b[1;31m -200 \u001b[00m withdraw on 2020-10-02 14:43:29.380489+03:00\n"
     ]
    }
   ],
   "source": [
    "a.show_history()"
   ]
  },
  {
   "cell_type": "code",
   "execution_count": 48,
   "metadata": {},
   "outputs": [],
   "source": [
    "d = Account('dima', 100)"
   ]
  },
  {
   "cell_type": "code",
   "execution_count": 49,
   "metadata": {},
   "outputs": [
    {
     "data": {
      "text/plain": [
       "139667919319536"
      ]
     },
     "execution_count": 49,
     "metadata": {},
     "output_type": "execute_result"
    }
   ],
   "source": [
    "id(a._get_current_time)"
   ]
  },
  {
   "cell_type": "code",
   "execution_count": 50,
   "metadata": {},
   "outputs": [
    {
     "data": {
      "text/plain": [
       "139667919319536"
      ]
     },
     "execution_count": 50,
     "metadata": {},
     "output_type": "execute_result"
    }
   ],
   "source": [
    "id(d._get_current_time)"
   ]
  }
 ],
 "metadata": {
  "kernelspec": {
   "display_name": "Python 3",
   "language": "python",
   "name": "python3"
  },
  "language_info": {
   "codemirror_mode": {
    "name": "ipython",
    "version": 3
   },
   "file_extension": ".py",
   "mimetype": "text/x-python",
   "name": "python",
   "nbconvert_exporter": "python",
   "pygments_lexer": "ipython3",
   "version": "3.8.5"
  }
 },
 "nbformat": 4,
 "nbformat_minor": 4
}
