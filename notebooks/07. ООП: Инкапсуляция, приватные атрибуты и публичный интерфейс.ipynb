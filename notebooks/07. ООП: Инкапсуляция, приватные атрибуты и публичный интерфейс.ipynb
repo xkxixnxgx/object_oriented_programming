{
 "cells": [
  {
   "cell_type": "code",
   "execution_count": 1,
   "metadata": {},
   "outputs": [],
   "source": [
    "# Инкапсуляция - это способ организации методов создаваемого объекта, при котором наружу конкретная реализация методов не выставляется."
   ]
  },
  {
   "cell_type": "code",
   "execution_count": 2,
   "metadata": {},
   "outputs": [],
   "source": [
    "# На стадии анализа и продумывания дизайна наших классов мы должны просчитать какой публичный интерфейс будет доступен извне.\n",
    "# Публичный интерфейс это как раз набор атрибутов и методов, которые будут доступны другим объектам для взаимодействия с нашим объектом.\n",
    "# Публичный интерфейс в дальнейшем достаточно трудно изменить, т.к. придется поломать обратную совместимость с нашим проектом.\n",
    "# Поэтому продумывать его надо очень тщательно. Какие данные и методы для пользователя нужно скрыть."
   ]
  },
  {
   "cell_type": "code",
   "execution_count": 4,
   "metadata": {},
   "outputs": [],
   "source": [
    "# Для инкапсуляции в python принято использовать определенные обозначения, чтобы указать другим  разработчикам, что этот метод приватный и его не стоит использовать.\n",
    "# Но к нему конечно можно обращаться напрямую.\n",
    "# Обозначаются такие методы одним нижним подчеркиванием в начале названия метода, например, -name, _surname:\n",
    "class Person:\n",
    "    def __init__(self, name, surname):\n",
    "        self._name = name\n",
    "        self._surname = surname\n",
    "        self.name = f'{self._name} {self._surname}'"
   ]
  },
  {
   "cell_type": "code",
   "execution_count": 5,
   "metadata": {},
   "outputs": [
    {
     "name": "stdout",
     "output_type": "stream",
     "text": [
      "yury bor\n"
     ]
    }
   ],
   "source": [
    "# Создадим объект:\n",
    "p = Person('yury', 'bor')\n",
    "print(p.name)"
   ]
  },
  {
   "cell_type": "code",
   "execution_count": 6,
   "metadata": {},
   "outputs": [],
   "source": [
    "# Свойства _name и _surname являются приватными, это означает,что использование этого метода вне этого класса не предполагается.\n",
    "# На практике мы можем дотянуться до этих методов, но по соглашению принято считать, что они для использования только внутри класса.\n",
    "# Свойство name называется публичным, т.е. его как раз и предполагается вызывать извне."
   ]
  }
 ],
 "metadata": {
  "kernelspec": {
   "display_name": "Python 3",
   "language": "python",
   "name": "python3"
  },
  "language_info": {
   "codemirror_mode": {
    "name": "ipython",
    "version": 3
   },
   "file_extension": ".py",
   "mimetype": "text/x-python",
   "name": "python",
   "nbconvert_exporter": "python",
   "pygments_lexer": "ipython3",
   "version": "3.8.5"
  }
 },
 "nbformat": 4,
 "nbformat_minor": 4
}
