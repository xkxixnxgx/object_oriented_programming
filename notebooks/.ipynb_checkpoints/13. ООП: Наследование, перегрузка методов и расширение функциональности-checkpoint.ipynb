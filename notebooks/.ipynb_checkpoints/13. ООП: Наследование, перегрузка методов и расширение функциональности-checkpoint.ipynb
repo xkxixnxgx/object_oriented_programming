{
 "cells": [
  {
   "cell_type": "code",
   "execution_count": 1,
   "metadata": {},
   "outputs": [
    {
     "data": {
      "text/plain": [
       "['__class__',\n",
       " '__delattr__',\n",
       " '__dict__',\n",
       " '__dir__',\n",
       " '__doc__',\n",
       " '__eq__',\n",
       " '__format__',\n",
       " '__ge__',\n",
       " '__getattribute__',\n",
       " '__gt__',\n",
       " '__hash__',\n",
       " '__init__',\n",
       " '__init_subclass__',\n",
       " '__le__',\n",
       " '__lt__',\n",
       " '__module__',\n",
       " '__ne__',\n",
       " '__new__',\n",
       " '__reduce__',\n",
       " '__reduce_ex__',\n",
       " '__repr__',\n",
       " '__setattr__',\n",
       " '__sizeof__',\n",
       " '__str__',\n",
       " '__subclasshook__',\n",
       " '__weakref__',\n",
       " 'age',\n",
       " 'hello']"
      ]
     },
     "execution_count": 1,
     "metadata": {},
     "output_type": "execute_result"
    }
   ],
   "source": [
    "# Наследование позволяет на основе базового класса (предка, родительского, супер-класса) создать другой, который перенимает у базового класса все методы и свойства.\n",
    "# Базовый пример:\n",
    "class Person:\n",
    "    age = 0\n",
    "    def hello(self):\n",
    "        print('Hello')\n",
    "\n",
    "\n",
    "class Student(Person):\n",
    "    pass\n",
    "\n",
    "s = Student()\n",
    "dir(s)"
   ]
  },
  {
   "cell_type": "code",
   "execution_count": 2,
   "metadata": {},
   "outputs": [
    {
     "data": {
      "text/plain": [
       "0"
      ]
     },
     "execution_count": 2,
     "metadata": {},
     "output_type": "execute_result"
    }
   ],
   "source": [
    "s.age"
   ]
  },
  {
   "cell_type": "code",
   "execution_count": 4,
   "metadata": {},
   "outputs": [
    {
     "name": "stdout",
     "output_type": "stream",
     "text": [
      "Hello\n"
     ]
    }
   ],
   "source": [
    "s.hello()"
   ]
  },
  {
   "cell_type": "code",
   "execution_count": 5,
   "metadata": {},
   "outputs": [
    {
     "data": {
      "text/plain": [
       "{}"
      ]
     },
     "execution_count": 5,
     "metadata": {},
     "output_type": "execute_result"
    }
   ],
   "source": [
    "s.__dict__"
   ]
  },
  {
   "cell_type": "code",
   "execution_count": 6,
   "metadata": {},
   "outputs": [
    {
     "data": {
      "text/plain": [
       "mappingproxy({'__module__': '__main__', '__doc__': None})"
      ]
     },
     "execution_count": 6,
     "metadata": {},
     "output_type": "execute_result"
    }
   ],
   "source": [
    "Student.__dict__"
   ]
  },
  {
   "cell_type": "code",
   "execution_count": 7,
   "metadata": {},
   "outputs": [],
   "source": [
    "# Но видим, что в классе Student ни свойства ни методы не определены."
   ]
  },
  {
   "cell_type": "code",
   "execution_count": 8,
   "metadata": {},
   "outputs": [
    {
     "data": {
      "text/plain": [
       "mappingproxy({'__module__': '__main__',\n",
       "              'age': 0,\n",
       "              'hello': <function __main__.Person.hello(self)>,\n",
       "              '__dict__': <attribute '__dict__' of 'Person' objects>,\n",
       "              '__weakref__': <attribute '__weakref__' of 'Person' objects>,\n",
       "              '__doc__': None})"
      ]
     },
     "execution_count": 8,
     "metadata": {},
     "output_type": "execute_result"
    }
   ],
   "source": [
    "# Они определены в классе Person:\n",
    "Person.__dict__"
   ]
  },
  {
   "cell_type": "code",
   "execution_count": 9,
   "metadata": {},
   "outputs": [],
   "source": [
    "# Python ищет определение имен по стандартному правилу:\n",
    "# - сначала они ищет в пространстве имен экземпляра класса Student\n",
    "# - далее в классе Student, не находит там\n",
    "# - потом находит необходимые имена в родительском классе Person"
   ]
  },
  {
   "cell_type": "code",
   "execution_count": 11,
   "metadata": {},
   "outputs": [
    {
     "data": {
      "text/plain": [
       "['__class__',\n",
       " '__delattr__',\n",
       " '__dir__',\n",
       " '__doc__',\n",
       " '__eq__',\n",
       " '__format__',\n",
       " '__ge__',\n",
       " '__getattribute__',\n",
       " '__gt__',\n",
       " '__hash__',\n",
       " '__init__',\n",
       " '__init_subclass__',\n",
       " '__le__',\n",
       " '__lt__',\n",
       " '__ne__',\n",
       " '__new__',\n",
       " '__reduce__',\n",
       " '__reduce_ex__',\n",
       " '__repr__',\n",
       " '__setattr__',\n",
       " '__sizeof__',\n",
       " '__str__',\n",
       " '__subclasshook__']"
      ]
     },
     "execution_count": 11,
     "metadata": {},
     "output_type": "execute_result"
    }
   ],
   "source": [
    "# Наследование полезно тем, что позволяет сократить количество кода.\n",
    "# Мы опрделяем общие черты у нескольких классов и выносим их в отдельный супер-класс.\n",
    "# Далее наследуемся от него добавляя новые, оригинальные свойства и методы.\n",
    "# Все классы наследуются от объекта object, который содержит базовые методы, которые есть у всех классов:\n",
    "dir(object)"
   ]
  },
  {
   "cell_type": "code",
   "execution_count": 12,
   "metadata": {},
   "outputs": [],
   "source": [
    "# Было бы неплохо в этой ситуации иметь способ отслеживать схему наследования.\n",
    "# Пример:\n",
    "class IntelCpu:\n",
    "    cpu_socket = 1151\n",
    "    name = \"Intel\"\n",
    "    \n",
    "class I7(IntelCpu):\n",
    "    pass\n",
    "\n",
    "class I5(IntelCpu):\n",
    "    pass"
   ]
  },
  {
   "cell_type": "code",
   "execution_count": 14,
   "metadata": {},
   "outputs": [
    {
     "data": {
      "text/plain": [
       "True"
      ]
     },
     "execution_count": 14,
     "metadata": {},
     "output_type": "execute_result"
    }
   ],
   "source": [
    "# Обсудим функцию isinstance(), которая позволяет убедиться, что какой-либо объект имеет атрибут (свойство или метод), который ему достался от любого родителя в цепочке наследования:\n",
    "# В качестве первого аргумента он получает объект, который надо проверить, в качестве второго аргумента класс (объект класса), который нужно проверить.\n",
    "# В результате получаем ответ (False, True) на вопрос, является ли i5 объектом в цепочке наследования от IntelCpu.\n",
    "i5 = I5()\n",
    "i7 = I7()\n",
    "isinstance(i5, IntelCpu)"
   ]
  },
  {
   "cell_type": "code",
   "execution_count": 15,
   "metadata": {},
   "outputs": [
    {
     "data": {
      "text/plain": [
       "__main__.I5"
      ]
     },
     "execution_count": 15,
     "metadata": {},
     "output_type": "execute_result"
    }
   ],
   "source": [
    "# Также у нас есть функция type(), которая показывает родительский класс проверяемого объекта:\n",
    "type(i5)"
   ]
  },
  {
   "cell_type": "code",
   "execution_count": 16,
   "metadata": {},
   "outputs": [
    {
     "data": {
      "text/plain": [
       "True"
      ]
     },
     "execution_count": 16,
     "metadata": {},
     "output_type": "execute_result"
    }
   ],
   "source": [
    "# А еще есть функция issubclass(), которая проверяет отношения именно между классами (не экземплярами).\n",
    "# Важный момент: данная функция учитывает все классы в цепочке наследования. И также возвращает True или False.\n",
    "# Пример:\n",
    "class One:\n",
    "    pass\n",
    "\n",
    "class Two(One):\n",
    "    pass\n",
    "\n",
    "class Three(Two):\n",
    "    pass\n",
    "\n",
    "issubclass(Three, One)"
   ]
  },
  {
   "cell_type": "code",
   "execution_count": 17,
   "metadata": {},
   "outputs": [
    {
     "data": {
      "text/plain": [
       "False"
      ]
     },
     "execution_count": 17,
     "metadata": {},
     "output_type": "execute_result"
    }
   ],
   "source": [
    "# Допустим у нас есть два объекта и необходимо выяснить относятся ли они к одному классу.\n",
    "# Передаем финкции isinstance() первым аргументом объект, а в качестве второго функция type() возвращает класс другого объекта:\n",
    "isinstance(i5, type(i7))"
   ]
  },
  {
   "cell_type": "code",
   "execution_count": 18,
   "metadata": {},
   "outputs": [],
   "source": [
    "# False, т.е. объект i5 не принадлежит классу I7, к которому относится объект i7, следовательно, эти объекты относятся к разным классам."
   ]
  },
  {
   "cell_type": "code",
   "execution_count": 19,
   "metadata": {},
   "outputs": [
    {
     "data": {
      "text/plain": [
       "False"
      ]
     },
     "execution_count": 19,
     "metadata": {},
     "output_type": "execute_result"
    }
   ],
   "source": [
    "# Либо можно сравнить те же объекты функцией issubclass():\n",
    "issubclass(type(i5), type(i7))"
   ]
  },
  {
   "cell_type": "code",
   "execution_count": 20,
   "metadata": {},
   "outputs": [
    {
     "name": "stdout",
     "output_type": "stream",
     "text": [
      "I am Student\n"
     ]
    }
   ],
   "source": [
    "# Перегрузкой называется создание в подклассе свойств и методов с теми же именами, что и в родительском классе.\n",
    "class Person:\n",
    "    def hello(self):\n",
    "        print('I am Person')\n",
    "        \n",
    "        \n",
    "class Student(Person):\n",
    "    def hello(self):\n",
    "        print('I am Student')\n",
    "        \n",
    "        \n",
    "s = Student()\n",
    "s.hello()"
   ]
  },
  {
   "cell_type": "code",
   "execution_count": 21,
   "metadata": {},
   "outputs": [
    {
     "data": {
      "text/plain": [
       "{}"
      ]
     },
     "execution_count": 21,
     "metadata": {},
     "output_type": "execute_result"
    }
   ],
   "source": [
    "s.__dict__"
   ]
  },
  {
   "cell_type": "code",
   "execution_count": 22,
   "metadata": {},
   "outputs": [
    {
     "data": {
      "text/plain": [
       "mappingproxy({'__module__': '__main__',\n",
       "              'hello': <function __main__.Student.hello(self)>,\n",
       "              '__doc__': None})"
      ]
     },
     "execution_count": 22,
     "metadata": {},
     "output_type": "execute_result"
    }
   ],
   "source": [
    "Student.__dict__"
   ]
  },
  {
   "cell_type": "code",
   "execution_count": 23,
   "metadata": {},
   "outputs": [],
   "source": [
    "# Как мы видим все на самом деле работает предсказуемо:\n",
    "# - сначала python ищет имя в локальном пространстве имен экземпляра\n",
    "# - не найдя там, ищет в самом классе и находит\n",
    "# - если не найдет, то пойдет выше по цепочке наследования\n",
    "# Т.е. это стандартный механихм поиска имен.\n",
    "# Говорят \"прегрузка\" просто для удобства, чтобы обозначить сам эффект, хотя по сути как мы видим никакой перегрузки нет."
   ]
  },
  {
   "cell_type": "code",
   "execution_count": 24,
   "metadata": {},
   "outputs": [],
   "source": [
    "# Также есть термин расширение функциональности класса - это создание дочернего класса с некоторой новой функциональностью, которой не было в родительском.\n",
    "class Person:\n",
    "    def hello(self):\n",
    "        print('I am Person')\n",
    "        \n",
    "        \n",
    "class Student(Person):\n",
    "    def goodbye(self):\n",
    "        print('Goodbye')\n",
    "        \n",
    "        \n",
    "s = Student()"
   ]
  },
  {
   "cell_type": "code",
   "execution_count": 26,
   "metadata": {},
   "outputs": [
    {
     "name": "stdout",
     "output_type": "stream",
     "text": [
      "Hello from Ivan\n"
     ]
    }
   ],
   "source": [
    "# Еще один пример о том, как python проводит разрешение имен методов:\n",
    "class Person:\n",
    "    def __init__(self, name):\n",
    "        self.name = name\n",
    "        \n",
    "    def hello(self):\n",
    "        print(f'Hello from {self.name}')\n",
    "        \n",
    "        \n",
    "class Student(Person):\n",
    "    pass\n",
    "\n",
    "\n",
    "s = Student('Ivan')\n",
    "s.hello()\n"
   ]
  },
  {
   "cell_type": "code",
   "execution_count": 27,
   "metadata": {},
   "outputs": [],
   "source": [
    "# В данном случае в self будет передан экзепляр класса Student, который и вызвал метод hello.\n",
    "# Несмотря на то что метод hello определен в другом (родительском классе)."
   ]
  },
  {
   "cell_type": "code",
   "execution_count": 28,
   "metadata": {},
   "outputs": [],
   "source": [
    "# Итак. Если при поиске имен python находит метод или свойство в ближайшем классе, однако эти методы встречаются выше по цепочке наследования, то говорят о перегрузке методов.\n",
    "# Если же свойство или метод встречается единожды в дочернем классе и не встречается в родительском, то говорят о расширении функциональности класса."
   ]
  }
 ],
 "metadata": {
  "kernelspec": {
   "display_name": "Python 3",
   "language": "python",
   "name": "python3"
  },
  "language_info": {
   "codemirror_mode": {
    "name": "ipython",
    "version": 3
   },
   "file_extension": ".py",
   "mimetype": "text/x-python",
   "name": "python",
   "nbconvert_exporter": "python",
   "pygments_lexer": "ipython3",
   "version": "3.8.5"
  }
 },
 "nbformat": 4,
 "nbformat_minor": 4
}
