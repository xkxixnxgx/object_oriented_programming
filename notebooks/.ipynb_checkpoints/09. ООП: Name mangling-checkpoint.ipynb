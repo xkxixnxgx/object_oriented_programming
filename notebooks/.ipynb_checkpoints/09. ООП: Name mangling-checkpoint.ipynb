{
 "cells": [
  {
   "cell_type": "code",
   "execution_count": 1,
   "metadata": {},
   "outputs": [],
   "source": [
    "# Name mangling - это искажение имен, если дословно."
   ]
  },
  {
   "cell_type": "code",
   "execution_count": 7,
   "metadata": {
    "scrolled": true
   },
   "outputs": [],
   "source": [
    "# Решает проблему возможного (случайного или нет) переопределения свойств объекта или родительского класса:\n",
    "class Account:\n",
    "    def __init__(self, name, balance):\n",
    "        self.name = name\n",
    "        self.balance = balance\n",
    "    def show_balance(self):\n",
    "        print(f'Balance: {self.balance}')"
   ]
  },
  {
   "cell_type": "code",
   "execution_count": 8,
   "metadata": {},
   "outputs": [
    {
     "name": "stdout",
     "output_type": "stream",
     "text": [
      "Balance: 200\n"
     ]
    }
   ],
   "source": [
    "a = Account('yury', 200)\n",
    "a.show_balance()"
   ]
  },
  {
   "cell_type": "code",
   "execution_count": 9,
   "metadata": {},
   "outputs": [
    {
     "name": "stdout",
     "output_type": "stream",
     "text": [
      "Balance: 10002760\n"
     ]
    }
   ],
   "source": [
    "# В таком случае мы можем переопределить свойство balance:\n",
    "a.balance += 10002560\n",
    "a.show_balance()"
   ]
  },
  {
   "cell_type": "code",
   "execution_count": 10,
   "metadata": {},
   "outputs": [],
   "source": [
    "# Как минимум свойство balance нам нужно сделать приватным:\n",
    "class Account:\n",
    "    def __init__(self, name, balance):\n",
    "        self.name = name\n",
    "        self._balance = balance\n",
    "    def show_balance(self):\n",
    "        print(f'Balance: {self.balance}')"
   ]
  },
  {
   "cell_type": "code",
   "execution_count": 11,
   "metadata": {},
   "outputs": [
    {
     "ename": "AttributeError",
     "evalue": "'Person' object has no attribute '__name'",
     "output_type": "error",
     "traceback": [
      "\u001b[0;31m---------------------------------------------------------------------------\u001b[0m",
      "\u001b[0;31mAttributeError\u001b[0m                            Traceback (most recent call last)",
      "\u001b[0;32m<ipython-input-11-16a1f3768832>\u001b[0m in \u001b[0;36m<module>\u001b[0;34m\u001b[0m\n\u001b[1;32m      5\u001b[0m \u001b[0;34m\u001b[0m\u001b[0m\n\u001b[1;32m      6\u001b[0m \u001b[0mp\u001b[0m \u001b[0;34m=\u001b[0m \u001b[0mPerson\u001b[0m\u001b[0;34m(\u001b[0m\u001b[0;34m)\u001b[0m\u001b[0;34m\u001b[0m\u001b[0;34m\u001b[0m\u001b[0m\n\u001b[0;32m----> 7\u001b[0;31m \u001b[0mp\u001b[0m\u001b[0;34m.\u001b[0m\u001b[0m__name\u001b[0m\u001b[0;34m\u001b[0m\u001b[0;34m\u001b[0m\u001b[0m\n\u001b[0m",
      "\u001b[0;31mAttributeError\u001b[0m: 'Person' object has no attribute '__name'"
     ]
    }
   ],
   "source": [
    "# При этом имена с двумя нижними подчеркиваниями только спереди становятся другими.\n",
    "# Например:\n",
    "class Person:\n",
    "    __name = 'Ivan'\n",
    "\n",
    "p = Person()\n",
    "p.__name"
   ]
  },
  {
   "cell_type": "code",
   "execution_count": 12,
   "metadata": {},
   "outputs": [
    {
     "data": {
      "text/plain": [
       "['_Person__name',\n",
       " '__class__',\n",
       " '__delattr__',\n",
       " '__dict__',\n",
       " '__dir__',\n",
       " '__doc__',\n",
       " '__eq__',\n",
       " '__format__',\n",
       " '__ge__',\n",
       " '__getattribute__',\n",
       " '__gt__',\n",
       " '__hash__',\n",
       " '__init__',\n",
       " '__init_subclass__',\n",
       " '__le__',\n",
       " '__lt__',\n",
       " '__module__',\n",
       " '__ne__',\n",
       " '__new__',\n",
       " '__reduce__',\n",
       " '__reduce_ex__',\n",
       " '__repr__',\n",
       " '__setattr__',\n",
       " '__sizeof__',\n",
       " '__str__',\n",
       " '__subclasshook__',\n",
       " '__weakref__']"
      ]
     },
     "execution_count": 12,
     "metadata": {},
     "output_type": "execute_result"
    }
   ],
   "source": [
    "# Мы закономерно получили исключение о том, что такого атрибута __name нет.\n",
    "# Вместо этого у нас появился метод _Person__name:\n",
    "dir(p)"
   ]
  },
  {
   "cell_type": "code",
   "execution_count": 13,
   "metadata": {},
   "outputs": [
    {
     "data": {
      "text/plain": [
       "{}"
      ]
     },
     "execution_count": 13,
     "metadata": {},
     "output_type": "execute_result"
    }
   ],
   "source": [
    "# В локальном пространстве имен видим, что он пуст:\n",
    "p.__dict__"
   ]
  },
  {
   "cell_type": "code",
   "execution_count": 14,
   "metadata": {},
   "outputs": [],
   "source": [
    "# Другими словами, python имена с двумя подчеркиваниями спереди жестко привязвает к классу.\n",
    "# Делается это для того, чтобы не произошло случайное переопределение таких свойств и методов.\n",
    "# Это и есть name mangling."
   ]
  },
  {
   "cell_type": "code",
   "execution_count": 17,
   "metadata": {},
   "outputs": [],
   "source": [
    "# Посмотрим как это рабоатет в случае с балансом:\n",
    "class Account:\n",
    "    def __init__(self, name, balance):\n",
    "        self.name = name\n",
    "        self.__balance = balance\n",
    "    def show_balance(self):\n",
    "        print(f'Balance: {self.__balance}')"
   ]
  },
  {
   "cell_type": "code",
   "execution_count": 18,
   "metadata": {},
   "outputs": [
    {
     "name": "stdout",
     "output_type": "stream",
     "text": [
      "Balance: 100\n"
     ]
    }
   ],
   "source": [
    "a = Account('yury', 100)\n",
    "a.show_balance()"
   ]
  },
  {
   "cell_type": "code",
   "execution_count": 19,
   "metadata": {},
   "outputs": [
    {
     "name": "stdout",
     "output_type": "stream",
     "text": [
      "Balance: 100\n"
     ]
    }
   ],
   "source": [
    "# Попробуем изменить баланс снаружи:\n",
    "a.__balance = 100000\n",
    "a.show_balance()"
   ]
  },
  {
   "cell_type": "code",
   "execution_count": 20,
   "metadata": {},
   "outputs": [
    {
     "data": {
      "text/plain": [
       "{'name': 'yury', '_Account__balance': 100, '__balance': 100000}"
      ]
     },
     "execution_count": 20,
     "metadata": {},
     "output_type": "execute_result"
    }
   ],
   "source": [
    "# Посмотрим свойства объекта a:\n",
    "a.__dict__"
   ]
  },
  {
   "cell_type": "code",
   "execution_count": 21,
   "metadata": {},
   "outputs": [],
   "source": [
    "# При изменении свойства экземпляра python стал его искать в словаре локальных имен.\n",
    "# Не найдя его там, создал новое свойство и присвоил ему наше значение."
   ]
  },
  {
   "cell_type": "code",
   "execution_count": null,
   "metadata": {},
   "outputs": [],
   "source": [
    "# Все дело в том, что name mangling выполняется в момент компиляции кода в байт код. Когда еще нет никаких объектов.\n",
    "# В результате чего на основе имени __balance (два подчеркивания впереди и не более одного сзади) создается новая переменная _Account__balance, которая и передается в дальнейшем объекту.\n",
    "# Такие имена не видны ни экземплярам класса ни его наследникам.\n",
    "# Сделано это для того, чтобы в случае когда мы захотим использовать в дочернем классе или экземпляре такую же переменную, у нас не получилось переопределить и нарушить родительский класс.\n",
    "# Специально можно обратиться напрямую к _Account__balance и переопределить значение, но случайно нет.\n",
    "# Также стоит сказать, что name mangling работает и вне ООП, но именно в ООП оно чаще находит применение."
   ]
  }
 ],
 "metadata": {
  "kernelspec": {
   "display_name": "Python 3",
   "language": "python",
   "name": "python3"
  },
  "language_info": {
   "codemirror_mode": {
    "name": "ipython",
    "version": 3
   },
   "file_extension": ".py",
   "mimetype": "text/x-python",
   "name": "python",
   "nbconvert_exporter": "python",
   "pygments_lexer": "ipython3",
   "version": "3.8.5"
  }
 },
 "nbformat": 4,
 "nbformat_minor": 4
}
