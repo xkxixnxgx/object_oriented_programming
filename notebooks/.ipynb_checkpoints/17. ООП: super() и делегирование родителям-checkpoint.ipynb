{
 "cells": [
  {
   "cell_type": "code",
   "execution_count": 1,
   "metadata": {},
   "outputs": [],
   "source": [
    "# Рассмотрим коротко функцию super() и как происходит делегирование в родительский класс."
   ]
  },
  {
   "cell_type": "code",
   "execution_count": 2,
   "metadata": {},
   "outputs": [],
   "source": [
    "# Иногда нам нужно после переопределения методов в дочернем классе передать управление в родительский класс.\n",
    "# Так бывает, когда в родительском классе определена та реализация, которая нужна.\n",
    "# Чаще всего таким методов является __init__.\n",
    "# Такое происходит когда дочерний класс содержит только часть свойств необходимых нам для работы.\n",
    "# А другая часть определена в родительском классе."
   ]
  },
  {
   "cell_type": "code",
   "execution_count": 3,
   "metadata": {},
   "outputs": [],
   "source": [
    "# Вообще глобально так происходит из-за принципа DRY (don't repeat yourself) - не повторяйся.\n",
    "# Поэтому мы выносим схожие свойства и методы между разными классами в отдельный класс и наследуемся от него.\n",
    "# Пример. С такой релализацией мы можем создать студента только с фамилией:\n",
    "class Person:\n",
    "    def __init__(self, name):\n",
    "        self.name = name\n",
    "        \n",
    "\n",
    "class Student(Person):\n",
    "    def __init__(self, surname):\n",
    "        self.surname - surname"
   ]
  },
  {
   "cell_type": "code",
   "execution_count": 5,
   "metadata": {},
   "outputs": [],
   "source": [
    "# Если мы добавим свойство name в класс Student, то нарушим принцип DRY.\n",
    "# Действительно зачем его определять в дочернем, если оно определно в родительском."
   ]
  },
  {
   "cell_type": "code",
   "execution_count": 7,
   "metadata": {},
   "outputs": [
    {
     "data": {
      "text/plain": [
       "{'name': 'Ivan', 'surname': 'Ivanov'}"
      ]
     },
     "execution_count": 7,
     "metadata": {},
     "output_type": "execute_result"
    }
   ],
   "source": [
    "# Для того, чтобы при создании экземпляра класса Student задать и имя, нам надо передать управление методу __init__ родительского класса.\n",
    "# Для этого как раз используется метод super().\n",
    "# Вот как это реализуется:\n",
    "class Person:\n",
    "    def __init__(self, name):\n",
    "        self.name = name\n",
    "        \n",
    "\n",
    "class Student(Person):\n",
    "    def __init__(self, name, surname): # Добавляем все аргументы, которые нужны\n",
    "        super().__init__(name) # Функция super() возвращает специальный прокси объект родительского класса\n",
    "        self.surname = surname\n",
    "        \n",
    "\n",
    "s = Student('Ivan', 'Ivanov')\n",
    "s.__dict__"
   ]
  },
  {
   "cell_type": "code",
   "execution_count": 8,
   "metadata": {},
   "outputs": [],
   "source": [
    "# Обратите внимание, что при делегировании выполнения в родительский класс, в метод дочернего класса надо передать все необходимые аргументы (как для дочернего класса так и для родительского).\n",
    "# Здесь нужно помнить то, что мы уже проходили.\n",
    "# Несмотря на то, что метод был вызван из родительского класса, но связан он по прежнему с объектом того класса, из которого он был вызван.\n",
    "# Следующая особенность в функции super().\n",
    "# Эта функция ищет методы не только в родительском классе, но и вверх по всему дереву наследования.\n",
    "# И еще одна особенность - это поряд в котором вызывается функция super().\n",
    "# Усли super() будет вызвано в конце, то она перезапишет своими значениями то, что было вызвано в дочернем методе на значения, которые встретились в методе родительского класса.\n",
    "class Person:\n",
    "    def __init__(self, name):\n",
    "        self.name = name\n",
    "        \n",
    "\n",
    "class Student(Person):\n",
    "    def __init__(self, name, surname):  \n",
    "        self.surname = surname\n",
    "        super().__init__(name) # Так опасно вызывать, только при необходимости\n",
    "\n",
    "# Но это можно и использовать при необходимости."
   ]
  },
  {
   "cell_type": "code",
   "execution_count": 9,
   "metadata": {},
   "outputs": [],
   "source": [
    "# Вот еще один пример:\n",
    "class Person:\n",
    "    def hello(self):\n",
    "        print(f'Bound with {self}')\n",
    "        \n",
    "\n",
    "class Student(Person):\n",
    "    def hello(self):\n",
    "        print(f'Student obj.hello() is called')\n",
    "        super().hello()\n",
    "\n",
    "s = Student()"
   ]
  },
  {
   "cell_type": "code",
   "execution_count": 10,
   "metadata": {},
   "outputs": [
    {
     "name": "stdout",
     "output_type": "stream",
     "text": [
      "Student obj.hello() is called\n",
      "Bound with <__main__.Student object at 0x7fbe543306d0>\n"
     ]
    }
   ],
   "source": [
    "s.hello()"
   ]
  },
  {
   "cell_type": "code",
   "execution_count": 12,
   "metadata": {},
   "outputs": [
    {
     "data": {
      "text/plain": [
       "'0x7fbe543306d0'"
      ]
     },
     "execution_count": 12,
     "metadata": {},
     "output_type": "execute_result"
    }
   ],
   "source": [
    "# Тут видим, что было распечатано сообщение из класса Student.\n",
    "# Далее управление было передано в класс Person, но передан был объект класса Student, что и видно во второй строке.\n",
    "# ID тот же:\n",
    "hex(id(s))"
   ]
  }
 ],
 "metadata": {
  "kernelspec": {
   "display_name": "Python 3",
   "language": "python",
   "name": "python3"
  },
  "language_info": {
   "codemirror_mode": {
    "name": "ipython",
    "version": 3
   },
   "file_extension": ".py",
   "mimetype": "text/x-python",
   "name": "python",
   "nbconvert_exporter": "python",
   "pygments_lexer": "ipython3",
   "version": "3.8.5"
  }
 },
 "nbformat": 4,
 "nbformat_minor": 4
}
