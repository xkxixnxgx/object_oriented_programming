{
 "cells": [
  {
   "cell_type": "code",
   "execution_count": 1,
   "metadata": {},
   "outputs": [],
   "source": [
    "# Дескрипторы - это атрибут какого-либо объекта, но с другой стороны является объектом другого класса.\n",
    "# Что это за класс экземпляром которого является дескриптор?\n",
    "# Это класс у коготорого определены магиеческие методы __get__(), __set__() или __delete__().\n",
    "# Если хотябы один из этих методов определен, то он становится дескриптором.\n",
    "# Дескрипторы глобально это целый протокол, за которым стоят такие понятия как статические методы, property, методы класса и т.д.\n",
    "# Те же подходы используются, когда нам надо провести валидацию данных, перед тем как присвоить значения этих данных свойствам.\n",
    "# Или если нам нужны данные, которые должны находиться в каком-то определенном жиапазоне.\n",
    "# Или нужны данные определенного типа.\n",
    "# Ключевой момент использования дескрипторов заключается в возможности использовать код дексриптора многократно.\n",
    "# Т.е. для многих свойств внутри класса для которых предполагается одинаковое поведение."
   ]
  },
  {
   "cell_type": "code",
   "execution_count": 2,
   "metadata": {},
   "outputs": [],
   "source": [
    "# В примере ниже приватные свойства _name и _surname должны быть всегда строками. \n",
    "# Чтобы мы не могли присвоить этим свойствам не строковые значения.\n",
    "# Обычные методы без getter и setter не могут нам такое поведение обеспечить.\n",
    "class Person:\n",
    "    def __init__(self, name, surname):\n",
    "        self._name = name\n",
    "        self._surname = surname\n",
    "        self._full_name = None\n",
    "        \n",
    "    @property\n",
    "    def name(self):\n",
    "        return self._name\n",
    "    \n",
    "    @name.setter\n",
    "    def name(self, value):\n",
    "        self._name = value\n",
    "        self._full_name = None\n",
    "        \n",
    "    @property\n",
    "    def surname(self):\n",
    "        return self._surname\n",
    "    \n",
    "    @surname.setter\n",
    "    def surname(self, value):\n",
    "        self._surname = value\n",
    "        self._full_name = None\n",
    "        \n",
    "\n",
    "p = Person('Ivan', 'Ivanov')"
   ]
  },
  {
   "cell_type": "code",
   "execution_count": 3,
   "metadata": {},
   "outputs": [],
   "source": [
    "# Итак мы имеем два приватных свойства _name и _surname.\n",
    "# У которых есть по два метода getter и setter.\n",
    "# Можно заметить, что у свойств name и surname одинаковое поведение, код отличается только названием переменных.\n",
    "# Т.е. прнцип DRY нарушается. И было бы хорошо иметь какой-то отдельный класс, который будет релизовывать данный функционал.\n",
    "# Например такой класс:\n",
    "class StringD:\n",
    "    def __init__(self, value=None):\n",
    "        if value:\n",
    "            self.set(value)\n",
    "            \n",
    "    def set(self, value):\n",
    "        self._value = value\n",
    "        \n",
    "    def get(self):\n",
    "        return self._value"
   ]
  },
  {
   "cell_type": "code",
   "execution_count": 4,
   "metadata": {},
   "outputs": [],
   "source": [
    "# В таком случае описание класса Person может свестить к такой конструкции:\n",
    "class Person:\n",
    "    def __init__(self, name, surname):\n",
    "        self.name = StringD(name)\n",
    "        self.surname = StringD(surname)"
   ]
  },
  {
   "cell_type": "code",
   "execution_count": 5,
   "metadata": {},
   "outputs": [],
   "source": [
    "# Более того такую конструкцию мы моглибы использовать многократно в местах, где у нас ожидается такоеже поведение."
   ]
  },
  {
   "cell_type": "code",
   "execution_count": 6,
   "metadata": {},
   "outputs": [
    {
     "data": {
      "text/plain": [
       "<__main__.Person at 0x7ff70430efd0>"
      ]
     },
     "execution_count": 6,
     "metadata": {},
     "output_type": "execute_result"
    }
   ],
   "source": [
    "# Посмотрим как работает такой класс:\n",
    "p = Person('Ivan', 'Ivanov')\n",
    "p"
   ]
  },
  {
   "cell_type": "code",
   "execution_count": 7,
   "metadata": {},
   "outputs": [
    {
     "data": {
      "text/plain": [
       "<__main__.StringD at 0x7ff70430e220>"
      ]
     },
     "execution_count": 7,
     "metadata": {},
     "output_type": "execute_result"
    }
   ],
   "source": [
    "# Ниже дает нам в ответ экземпляр класса StringD\n",
    "p.name"
   ]
  },
  {
   "cell_type": "code",
   "execution_count": 8,
   "metadata": {},
   "outputs": [
    {
     "data": {
      "text/plain": [
       "'Ivan'"
      ]
     },
     "execution_count": 8,
     "metadata": {},
     "output_type": "execute_result"
    }
   ],
   "source": [
    "# Чтобы получить имя нужно вызвать метод get():\n",
    "p.name.get()"
   ]
  },
  {
   "cell_type": "code",
   "execution_count": 9,
   "metadata": {},
   "outputs": [],
   "source": [
    "# Это конечно не красивое решение.\n",
    "# Можно было бы оформить все через декораторы property, но тогда название свойств пришлось бы явно вписывать.\n",
    "# Но для разных классов эти свойства могут разными именами атрибутов и свойства.\n",
    "# Да и в итоге получили бы при обращении к свойству только экземпляр класса.\n",
    "# Чтобы все выглядело как хорошо, нам надо сообщить python, что свойства name и surname должны быть экземплярами класса StrtingD.\n",
    "# А также чтобы при вызове метода name у экземпляра класса, вызывался метод get() или set() автоматически.\n",
    "# Такой механизм как раз называется дескрипторы.\n",
    "# Существует всего 4 метода, которые образуют протокол дескрипторов:\n",
    "# - get\n",
    "# - set\n",
    "# - delete\n",
    "# - setname (для назначения имени свойству, с версии python 3.6)\n",
    "# К свойствам мы обращаемся с двумя целями - прочитать значение и записать новое значение.\n",
    "# Следовательно свойства у нас двух видов - только для чтения, и те которые мы можем еще и записывать.\n",
    "# По этой аналогии дескрипторы у нас таких же видов:\n",
    "# - non-date дескрипторы, которые значения только отдают, реализуют только метод get\n",
    "# - date дескрипторы (дескрипторы данных), в которых метод set обязательно должен быть реализован и опционально метод delete"
   ]
  },
  {
   "cell_type": "code",
   "execution_count": 10,
   "metadata": {},
   "outputs": [],
   "source": [
    "# Начнем с non-date дескриптора и метода get.\n",
    "# Такой дескриптор нигде не хранит никаких состояний, только генерирует данные.\n",
    "# По сути это вычисляемое свойство.\n",
    "# Пример дескриптора, коорый отдает время:\n",
    "# Здесь второй аргумент это экземпляр класса, из которого происходит обращение к свойству.\n",
    "# Третий аргумент - это класс собственник.\n",
    "from time import time\n",
    "\n",
    "class Epoch:\n",
    "    def __get__(self, intance, owner_class):\n",
    "        return int(time())\n",
    "    \n",
    "\n",
    "class MyTime:\n",
    "    epoch = Epoch()\n",
    "\n",
    "    \n",
    "m = MyTime()"
   ]
  },
  {
   "cell_type": "code",
   "execution_count": 11,
   "metadata": {},
   "outputs": [
    {
     "data": {
      "text/plain": [
       "1601829537"
      ]
     },
     "execution_count": 11,
     "metadata": {},
     "output_type": "execute_result"
    }
   ],
   "source": [
    "m.epoch"
   ]
  },
  {
   "cell_type": "code",
   "execution_count": 12,
   "metadata": {},
   "outputs": [],
   "source": [
    "# Получили время в секундах начиная от 1 января 1970 года."
   ]
  },
  {
   "cell_type": "code",
   "execution_count": 15,
   "metadata": {},
   "outputs": [
    {
     "data": {
      "text/plain": [
       "2"
      ]
     },
     "execution_count": 15,
     "metadata": {},
     "output_type": "execute_result"
    }
   ],
   "source": [
    "# Другой пример. Игральный кубик:\n",
    "# choice выбирает из последовательности рандомный элемент.\n",
    "from random import choice\n",
    "\n",
    "class Dice:\n",
    "    @property\n",
    "    def number(self):\n",
    "        return choice(range(1, 7))\n",
    "\n",
    "d = Dice()\n",
    "d.number"
   ]
  },
  {
   "cell_type": "code",
   "execution_count": 16,
   "metadata": {},
   "outputs": [
    {
     "data": {
      "text/plain": [
       "4"
      ]
     },
     "execution_count": 16,
     "metadata": {},
     "output_type": "execute_result"
    }
   ],
   "source": [
    "d.number"
   ]
  },
  {
   "cell_type": "code",
   "execution_count": 17,
   "metadata": {},
   "outputs": [
    {
     "data": {
      "text/plain": [
       "1"
      ]
     },
     "execution_count": 17,
     "metadata": {},
     "output_type": "execute_result"
    }
   ],
   "source": [
    "d.number"
   ]
  },
  {
   "cell_type": "code",
   "execution_count": 19,
   "metadata": {},
   "outputs": [],
   "source": [
    "# Усложним пример. Напишем класс для трех игр. Камень-ножницы-бумага, подбрасывание монетки, кубик.\n",
    "class Game:\n",
    "    @property\n",
    "    def rock_paper_scissors(self):\n",
    "        return choice(['Rock', 'Paper', 'Scissors'])\n",
    "    \n",
    "    @property\n",
    "    def flip(self):\n",
    "        return choice(['Heads', 'Tails'])\n",
    "    \n",
    "    @property\n",
    "    def dice(self):\n",
    "        return choice(range(1, 7))\n",
    "    \n",
    "d = Game()"
   ]
  },
  {
   "cell_type": "code",
   "execution_count": 20,
   "metadata": {},
   "outputs": [
    {
     "name": "stdout",
     "output_type": "stream",
     "text": [
      "3\n",
      "2\n",
      "2\n"
     ]
    }
   ],
   "source": [
    "# Проверим:\n",
    "for i in range(3):\n",
    "    print(d.dice)"
   ]
  },
  {
   "cell_type": "code",
   "execution_count": 21,
   "metadata": {},
   "outputs": [],
   "source": [
    "# Если посмотреть на класс Game, то можно увидеть, что код дублируется трижды, но выполняет одно и то же - выдергивает рандомное значение из последоватльености.\n",
    "# Давайте реализуем ту же функциональность с помощью дескриптора:\n",
    "class Choice:\n",
    "    def __init__(self, *choice): # принимает произвольное количество аргументов и упаковывает в список (*)\n",
    "        self._choice = choice\n",
    "        \n",
    "    def __get__(self, obj, owner):\n",
    "        return choice(self._choice)\n",
    "    \n",
    "class Game:\n",
    "    dice = Choice(1, 2, 3, 4, 5, 6)\n",
    "    flip = Choice('Heads', 'Tails')\n",
    "    rock_paper_scissors = Choice('Rock', 'Paper', 'Scissors')\n",
    "\n",
    "    \n",
    "g = Game()"
   ]
  },
  {
   "cell_type": "code",
   "execution_count": 22,
   "metadata": {},
   "outputs": [
    {
     "data": {
      "text/plain": [
       "'Heads'"
      ]
     },
     "execution_count": 22,
     "metadata": {},
     "output_type": "execute_result"
    }
   ],
   "source": [
    "# Тестируем:\n",
    "g.flip"
   ]
  },
  {
   "cell_type": "code",
   "execution_count": 23,
   "metadata": {},
   "outputs": [
    {
     "data": {
      "text/plain": [
       "'Tails'"
      ]
     },
     "execution_count": 23,
     "metadata": {},
     "output_type": "execute_result"
    }
   ],
   "source": [
    "g.flip"
   ]
  },
  {
   "cell_type": "code",
   "execution_count": 24,
   "metadata": {},
   "outputs": [
    {
     "data": {
      "text/plain": [
       "4"
      ]
     },
     "execution_count": 24,
     "metadata": {},
     "output_type": "execute_result"
    }
   ],
   "source": [
    "g.dice"
   ]
  },
  {
   "cell_type": "code",
   "execution_count": 25,
   "metadata": {},
   "outputs": [
    {
     "data": {
      "text/plain": [
       "4"
      ]
     },
     "execution_count": 25,
     "metadata": {},
     "output_type": "execute_result"
    }
   ],
   "source": [
    "g.dice"
   ]
  },
  {
   "cell_type": "code",
   "execution_count": 26,
   "metadata": {},
   "outputs": [
    {
     "data": {
      "text/plain": [
       "3"
      ]
     },
     "execution_count": 26,
     "metadata": {},
     "output_type": "execute_result"
    }
   ],
   "source": [
    "g.dice"
   ]
  },
  {
   "cell_type": "code",
   "execution_count": 27,
   "metadata": {},
   "outputs": [
    {
     "data": {
      "text/plain": [
       "'Paper'"
      ]
     },
     "execution_count": 27,
     "metadata": {},
     "output_type": "execute_result"
    }
   ],
   "source": [
    "g.rock_paper_scissors"
   ]
  },
  {
   "cell_type": "code",
   "execution_count": 28,
   "metadata": {},
   "outputs": [
    {
     "data": {
      "text/plain": [
       "'Rock'"
      ]
     },
     "execution_count": 28,
     "metadata": {},
     "output_type": "execute_result"
    }
   ],
   "source": [
    "g.rock_paper_scissors"
   ]
  },
  {
   "cell_type": "code",
   "execution_count": 29,
   "metadata": {},
   "outputs": [
    {
     "data": {
      "text/plain": [
       "'Scissors'"
      ]
     },
     "execution_count": 29,
     "metadata": {},
     "output_type": "execute_result"
    }
   ],
   "source": [
    "g.rock_paper_scissors"
   ]
  }
 ],
 "metadata": {
  "kernelspec": {
   "display_name": "Python 3",
   "language": "python",
   "name": "python3"
  },
  "language_info": {
   "codemirror_mode": {
    "name": "ipython",
    "version": 3
   },
   "file_extension": ".py",
   "mimetype": "text/x-python",
   "name": "python",
   "nbconvert_exporter": "python",
   "pygments_lexer": "ipython3",
   "version": "3.8.5"
  }
 },
 "nbformat": 4,
 "nbformat_minor": 4
}
