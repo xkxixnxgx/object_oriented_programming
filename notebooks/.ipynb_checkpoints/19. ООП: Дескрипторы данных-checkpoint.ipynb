{
 "cells": [
  {
   "cell_type": "code",
   "execution_count": 10,
   "metadata": {},
   "outputs": [],
   "source": [
    "# Дескрипторы данных."
   ]
  },
  {
   "cell_type": "code",
   "execution_count": 11,
   "metadata": {},
   "outputs": [],
   "source": [
    "# Давайте посмотрим на то как вызывается метод __get__():\n",
    "# Вставим принты чтобы посмотреть что передается в эти аргументы:\n",
    "from time import time\n",
    "\n",
    "class Epoch:\n",
    "    def __get__(self, instance, owner_class):\n",
    "        print(f'Self: {self}')\n",
    "        print(f'Intance: {instance}')\n",
    "        print(f'Owner class: {owner_class}')\n",
    "        return int(time())\n",
    "    \n",
    "    \n",
    "class MyTime:\n",
    "    epoch = Epoch()\n",
    "\n",
    "    \n",
    "m = MyTime()"
   ]
  },
  {
   "cell_type": "code",
   "execution_count": 12,
   "metadata": {
    "scrolled": true
   },
   "outputs": [
    {
     "name": "stdout",
     "output_type": "stream",
     "text": [
      "Self: <__main__.Epoch object at 0x7f4e28a16ca0>\n",
      "Intance: <__main__.MyTime object at 0x7f4e28a16c40>\n",
      "Owner class: <class '__main__.MyTime'>\n"
     ]
    },
    {
     "data": {
      "text/plain": [
       "1601922422"
      ]
     },
     "execution_count": 12,
     "metadata": {},
     "output_type": "execute_result"
    }
   ],
   "source": [
    "m.epoch"
   ]
  },
  {
   "cell_type": "code",
   "execution_count": 13,
   "metadata": {},
   "outputs": [],
   "source": [
    "# В выводе мы видим, что метод __get__ получил объект класса Epoch, instance получил объект класса MyTime, и третьим аргументом был передан класс собственник, т.к. сам класс MyTime."
   ]
  },
  {
   "cell_type": "code",
   "execution_count": 14,
   "metadata": {},
   "outputs": [
    {
     "name": "stdout",
     "output_type": "stream",
     "text": [
      "Self: <__main__.Epoch object at 0x7f4e28a16ca0>\n",
      "Intance: None\n",
      "Owner class: <class '__main__.MyTime'>\n"
     ]
    },
    {
     "data": {
      "text/plain": [
       "1601922426"
      ]
     },
     "execution_count": 14,
     "metadata": {},
     "output_type": "execute_result"
    }
   ],
   "source": [
    "# Теперь мы можем обращаться к атрибуту класса через сам класс:\n",
    "MyTime.epoch"
   ]
  },
  {
   "cell_type": "code",
   "execution_count": 15,
   "metadata": {},
   "outputs": [],
   "source": [
    "# Все тоже самое, кроме параметра инстанс, который не получил ничего, потомучто обращение произошло через класс, а не через экземпляр.\n",
    "# Такое поведение позволяет нам возвращать разные значения, взависимости от того, откуда было вызвано свойство epoch.\n",
    "# Если во второй параметр (на место instance) было что-то передано - это один вариант.\n",
    "# Если ничего не передано - другой вариант.\n",
    "# Например мы можем возвращать значение свойств, если обращение произошло из экземпляра.\n",
    "# И возвращать сам экземпляр дескриптора, если произошло обращение через класс.\n",
    "# Это как раз то поведение, которое реализует property."
   ]
  },
  {
   "cell_type": "code",
   "execution_count": 16,
   "metadata": {},
   "outputs": [
    {
     "data": {
      "text/plain": [
       "<property at 0x7f4e28a17ae0>"
      ]
     },
     "execution_count": 16,
     "metadata": {},
     "output_type": "execute_result"
    }
   ],
   "source": [
    "# Пример обращения к классу:\n",
    "class Person:\n",
    "    _name = 'Oleg'\n",
    "    @property\n",
    "    def name(self):\n",
    "        return self._name\n",
    "\n",
    "Person.name"
   ]
  },
  {
   "cell_type": "code",
   "execution_count": 17,
   "metadata": {},
   "outputs": [
    {
     "data": {
      "text/plain": [
       "'Oleg'"
      ]
     },
     "execution_count": 17,
     "metadata": {},
     "output_type": "execute_result"
    }
   ],
   "source": [
    "# Получили экземпляр класса property.\n",
    "# А если обратиться к экземпляру, то получим значение:\n",
    "Person().name"
   ]
  },
  {
   "cell_type": "code",
   "execution_count": 18,
   "metadata": {},
   "outputs": [],
   "source": [
    "# На основе такого поведения давайте изменим наш исходный пример:\n",
    "from time import time\n",
    "\n",
    "class Epoch:\n",
    "    def __get__(self, instance, owner_class):\n",
    "        if instance is None: # здесь важно проверить был ли передан хоть какой-то аргумент или не был передан, т.е. None\n",
    "            return self\n",
    "        return int(time())\n",
    "    \n",
    "    \n",
    "class MyTime:\n",
    "    epoch = Epoch()\n",
    "\n",
    "    \n",
    "m = MyTime()"
   ]
  },
  {
   "cell_type": "code",
   "execution_count": 19,
   "metadata": {},
   "outputs": [],
   "source": [
    "# До этого момента мы по сути говорили о None-data дескрипторах.\n",
    "# Давайте реализуем метод __set__().\n",
    "# Для начала надо понять где мы будем хранить данные. Ведь у нас есть 3 варианта.\n",
    "# Рассмотрим метод __set__, в котором нет параметра owner, т.к. swtter всегда вызывается из экземпляра, но есть третий аргумент - это значение, которое нам надо сохранить:\n",
    "from time import time\n",
    "\n",
    "class Epoch:\n",
    "    def __get__(self, instance, owner_class):\n",
    "        if instance is None:\n",
    "            return self\n",
    "        return int(time())\n",
    "    \n",
    "    def __set__(self, instance, value):\n",
    "        pass\n",
    "    \n",
    "    \n",
    "class MyTime:\n",
    "    epoch = Epoch()\n",
    "\n",
    "    \n",
    "m = MyTime()"
   ]
  },
  {
   "cell_type": "code",
   "execution_count": 20,
   "metadata": {},
   "outputs": [],
   "source": [
    "# Т.е. у нас остается два варианта. Хранить данные в классе или экземпляре класса.\n",
    "# Конечно мы выбираем экземпляр.\n",
    "# Т.к. в случае хранения данных в свойстве класса, все экземпляры будут делить это свойство между собой.\n",
    "# И когда потребуется его изменить, изменено оно будет для всех экземпляров, т.е. станет для них глобальным объектом."
   ]
  },
  {
   "cell_type": "code",
   "execution_count": 21,
   "metadata": {},
   "outputs": [],
   "source": [
    "# Давайте продеманстрируем это:\n",
    "\n",
    "from time import time\n",
    "\n",
    "class Epoch:\n",
    "    def __get__(self, instance, owner_class):\n",
    "        print(f'id of self: {id(self)}')\n",
    "        if instance is None:\n",
    "            return self\n",
    "        return int(time())\n",
    "    \n",
    "    def __set__(self, instance, value):\n",
    "        pass\n",
    "    \n",
    "    \n",
    "class MyTime:\n",
    "    epoch = Epoch()\n",
    "\n",
    "    \n",
    "m = MyTime()"
   ]
  },
  {
   "cell_type": "code",
   "execution_count": 22,
   "metadata": {},
   "outputs": [],
   "source": [
    "m2 = MyTime()"
   ]
  },
  {
   "cell_type": "code",
   "execution_count": 23,
   "metadata": {},
   "outputs": [
    {
     "name": "stdout",
     "output_type": "stream",
     "text": [
      "id of self: 139973665436576\n"
     ]
    },
    {
     "data": {
      "text/plain": [
       "1601922445"
      ]
     },
     "execution_count": 23,
     "metadata": {},
     "output_type": "execute_result"
    }
   ],
   "source": [
    "m.epoch"
   ]
  },
  {
   "cell_type": "code",
   "execution_count": 24,
   "metadata": {},
   "outputs": [
    {
     "name": "stdout",
     "output_type": "stream",
     "text": [
      "id of self: 139973665436576\n"
     ]
    },
    {
     "data": {
      "text/plain": [
       "1601922447"
      ]
     },
     "execution_count": 24,
     "metadata": {},
     "output_type": "execute_result"
    }
   ],
   "source": [
    "m2.epoch"
   ]
  },
  {
   "cell_type": "code",
   "execution_count": 25,
   "metadata": {},
   "outputs": [],
   "source": [
    "# Т.е. два экземпляра класса работают с одним и тем же объектом.\n",
    "# Так не должно работать.\n",
    "# Для хранения данных нужны именно экземпляры классов. И по этой же причине методы __get__ и __set__ принимают экземпляры классов."
   ]
  },
  {
   "cell_type": "code",
   "execution_count": 26,
   "metadata": {},
   "outputs": [],
   "source": [
    "# Теперь давайте посмотрим, почему нельзя хранить данные в экземпляре дескриптора:\n",
    "class InDescriptor:\n",
    "    def __set__(self, instance, value):\n",
    "        print(f'I got {value}') # пока заглушка\n",
    "        \n",
    "    def __get__(self, instance, owner):\n",
    "        if instance is None:\n",
    "            print('Call from a class') # пока заглушка\n",
    "        print('Call from instance') # пока заглушка\n",
    "        \n",
    "\n",
    "class Vector:\n",
    "    x = InDescriptor()\n",
    "    y = InDescriptor()\n",
    "    \n",
    "    \n",
    "v = Vector()"
   ]
  },
  {
   "cell_type": "code",
   "execution_count": 27,
   "metadata": {},
   "outputs": [
    {
     "name": "stdout",
     "output_type": "stream",
     "text": [
      "I got 5\n"
     ]
    }
   ],
   "source": [
    "# Присвоем координате x значение 5:\n",
    "v.x = 5"
   ]
  },
  {
   "cell_type": "code",
   "execution_count": 28,
   "metadata": {},
   "outputs": [],
   "source": [
    "# Убедились,что метод __set__ вызывается и получает наше значение.\n",
    "# Теперь нам надо его сохранить.\n",
    "# Сохранять будет в том месте, которое значение получает, т.е. в экземпляре дескриптора.\n",
    "class InDescriptor:\n",
    "    def __set__(self, instance, value):\n",
    "        self._value = value\n",
    "        \n",
    "    def __get__(self, instance, owner):\n",
    "        if instance is None:\n",
    "            return self\n",
    "        return self._value\n",
    "        \n",
    "\n",
    "class Vector:\n",
    "    x = InDescriptor()\n",
    "    y = InDescriptor()\n",
    "    \n",
    "    \n",
    "v = Vector()"
   ]
  },
  {
   "cell_type": "code",
   "execution_count": 29,
   "metadata": {},
   "outputs": [],
   "source": [
    "v.x = 5"
   ]
  },
  {
   "cell_type": "code",
   "execution_count": 30,
   "metadata": {},
   "outputs": [],
   "source": [
    "v2 = Vector()"
   ]
  },
  {
   "cell_type": "code",
   "execution_count": 31,
   "metadata": {},
   "outputs": [
    {
     "data": {
      "text/plain": [
       "5"
      ]
     },
     "execution_count": 31,
     "metadata": {},
     "output_type": "execute_result"
    }
   ],
   "source": [
    "v2.x"
   ]
  },
  {
   "cell_type": "code",
   "execution_count": 32,
   "metadata": {},
   "outputs": [
    {
     "data": {
      "text/plain": [
       "200"
      ]
     },
     "execution_count": 32,
     "metadata": {},
     "output_type": "execute_result"
    }
   ],
   "source": [
    "# Как видно значение из первого экземпляра доступно и для другого экземпляра.\n",
    "# Если поменять значение у второго экземпляра, то оно также будет доступно и для первого:\n",
    "v2.x = 200\n",
    "v.x"
   ]
  },
  {
   "cell_type": "code",
   "execution_count": 33,
   "metadata": {},
   "outputs": [],
   "source": [
    "# Конечно так не должно работать. Т.к. объекты класса хранят общее состояние в дескрипторе."
   ]
  },
  {
   "cell_type": "code",
   "execution_count": 34,
   "metadata": {},
   "outputs": [],
   "source": [
    "# Следовательно мы не можем хранить данные свойств в дескрипторе."
   ]
  },
  {
   "cell_type": "code",
   "execution_count": 41,
   "metadata": {},
   "outputs": [],
   "source": [
    "# Также возникает вопрос - как нужно сохранить данные, под каким именем они должны храниться, чтобы это имя можно было определеить например в экземпляре класса, чтобы потом его можно было легко прочитать.\n",
    "# Причем это надо делать так, чтобы не происходила перезапись какого-либо атрибута или свойства.\n",
    "# Т.е. надо каким-то образом хранить разные имена для хранения данных разных экземпляров этих дескрипторов.\n",
    "# Одно из возможных решений - это использовать словарь, в котором в качестве ключа будет экземпляр класса, из которого было обращение к свойству.\n",
    "# Давайте еще один пример посмотрим, почему это деструктивно:\n",
    "\n",
    "class IntDescriptor:\n",
    "    def __init__(self):\n",
    "        self._values = {} # для каждого экземпляра будет создан пустой словарь\n",
    "    \n",
    "    def __set__(self, instance, value):\n",
    "        self._values[instance] = value # тут обращаемся к словарю и в качестве ключ передаем instance\n",
    "                                       # напомним, что такой объект должен быть хэшируемым, т.е. для должны быть определены методы __hash__ и __eq__\n",
    "\n",
    "    def __get__(self, instance, owner):\n",
    "        if instance is None:\n",
    "            return self\n",
    "        return self._values.get(instance)\n",
    "        \n",
    "\n",
    "class Vector:\n",
    "    x = IntDescriptor()\n",
    "    y = IntDescriptor()"
   ]
  },
  {
   "cell_type": "code",
   "execution_count": 42,
   "metadata": {},
   "outputs": [],
   "source": [
    "v1 = Vector()\n",
    "v2 = Vector()"
   ]
  },
  {
   "cell_type": "code",
   "execution_count": 43,
   "metadata": {
    "scrolled": true
   },
   "outputs": [],
   "source": [
    "v1.x = 5"
   ]
  },
  {
   "cell_type": "code",
   "execution_count": 44,
   "metadata": {
    "scrolled": true
   },
   "outputs": [],
   "source": [
    "v2.x"
   ]
  },
  {
   "cell_type": "code",
   "execution_count": 45,
   "metadata": {
    "scrolled": true
   },
   "outputs": [],
   "source": [
    "v2.x = 10"
   ]
  },
  {
   "cell_type": "code",
   "execution_count": 46,
   "metadata": {
    "scrolled": true
   },
   "outputs": [
    {
     "data": {
      "text/plain": [
       "5"
      ]
     },
     "execution_count": 46,
     "metadata": {},
     "output_type": "execute_result"
    }
   ],
   "source": [
    "v1.x"
   ]
  },
  {
   "cell_type": "code",
   "execution_count": 47,
   "metadata": {},
   "outputs": [],
   "source": [
    "# Все работает как надо."
   ]
  },
  {
   "cell_type": "code",
   "execution_count": 48,
   "metadata": {},
   "outputs": [],
   "source": [
    "# Разберем что здесь происходит."
   ]
  },
  {
   "cell_type": "code",
   "execution_count": 50,
   "metadata": {},
   "outputs": [],
   "source": [
    "# Свойства x и y являются экземплярами класса IntDescriptor.\n",
    "# Поэтом каждый из этих экземпляров (и x, и y) получил при инициализации пустой словарь.\n",
    "# Эти словари не зависят друг от друга.\n",
    "# Когда мы присваиваем значение экземпляру класса Vector, оно передается в метод __set__, который записывает это значение в словарь.\n",
    "# В словаре values ключом является экземпляр класса Vector, из которого произошло обращение к свойству.\n",
    "# Т.е. для хранения здесь используется и self (экземпляр класса дескриптора) и экземпляр класса, из которого произошел вызов свойства.\n",
    "# Далее вызов дескриптора и соответсвенно вызов метода __get__ или __set__.\n",
    "# При обращении в свойству через класс мы можем получить доступ к словарю values и посмотреть как оно все работает."
   ]
  },
  {
   "cell_type": "code",
   "execution_count": 52,
   "metadata": {},
   "outputs": [
    {
     "data": {
      "text/plain": [
       "{<__main__.Vector at 0x7f4e289b38b0>: 5,\n",
       " <__main__.Vector at 0x7f4e289b3bb0>: 10}"
      ]
     },
     "execution_count": 52,
     "metadata": {},
     "output_type": "execute_result"
    }
   ],
   "source": [
    "Vector.x._values"
   ]
  },
  {
   "cell_type": "code",
   "execution_count": 53,
   "metadata": {},
   "outputs": [
    {
     "data": {
      "text/plain": [
       "3032"
      ]
     },
     "execution_count": 53,
     "metadata": {},
     "output_type": "execute_result"
    }
   ],
   "source": [
    "# Видим наши объекты со значениями.\n",
    "# Такая реализация работает неплохо и ожидаемо.\n",
    "# Но есть существенная проблема - это количество ссылок которое мы создаем.\n",
    "# Посчитаем количество ссылок произвольных объектов:\n",
    "import sys\n",
    "\n",
    "v = 1\n",
    "sys.getrefcount(v)"
   ]
  },
  {
   "cell_type": "code",
   "execution_count": 54,
   "metadata": {},
   "outputs": [
    {
     "data": {
      "text/plain": [
       "3"
      ]
     },
     "execution_count": 54,
     "metadata": {},
     "output_type": "execute_result"
    }
   ],
   "source": [
    "val = 'oleg'\n",
    "sys.getrefcount(val)"
   ]
  },
  {
   "cell_type": "code",
   "execution_count": 55,
   "metadata": {},
   "outputs": [
    {
     "data": {
      "text/plain": [
       "1"
      ]
     },
     "execution_count": 55,
     "metadata": {},
     "output_type": "execute_result"
    }
   ],
   "source": [
    "# Либо можно использовать модуль ctypes:\n",
    "import ctypes\n",
    "\n",
    "def ref_count(obj_id):\n",
    "    return ctypes.c_long.from_address(obj_id).value\n",
    "\n",
    "ref_count(id(val))"
   ]
  },
  {
   "cell_type": "code",
   "execution_count": 56,
   "metadata": {},
   "outputs": [
    {
     "data": {
      "text/plain": [
       "1"
      ]
     },
     "execution_count": 56,
     "metadata": {},
     "output_type": "execute_result"
    }
   ],
   "source": [
    "# Теперь попробуем посчитать ссылки:\n",
    "v3 = Vector()\n",
    "ref_count(id(v3))"
   ]
  },
  {
   "cell_type": "code",
   "execution_count": 57,
   "metadata": {},
   "outputs": [],
   "source": [
    "# Сохраняем id нашего вектора в переменную:\n",
    "id_v = id(v3)"
   ]
  },
  {
   "cell_type": "code",
   "execution_count": 58,
   "metadata": {},
   "outputs": [],
   "source": [
    "# Далее ставим эксперимент. Присваивая свойствам x и y какие-то значения мы таким образом будем создавать еще по одной ссылке для каждого экземпляра дескриптора.\n",
    "# Т.к. в словаре будет храниться ссылка на объект."
   ]
  },
  {
   "cell_type": "code",
   "execution_count": 59,
   "metadata": {},
   "outputs": [
    {
     "data": {
      "text/plain": [
       "2"
      ]
     },
     "execution_count": 59,
     "metadata": {},
     "output_type": "execute_result"
    }
   ],
   "source": [
    "v3.x = 5\n",
    "ref_count(id_v)"
   ]
  },
  {
   "cell_type": "code",
   "execution_count": 60,
   "metadata": {},
   "outputs": [
    {
     "data": {
      "text/plain": [
       "3"
      ]
     },
     "execution_count": 60,
     "metadata": {},
     "output_type": "execute_result"
    }
   ],
   "source": [
    "v3.y = 5\n",
    "ref_count(id_v)"
   ]
  },
  {
   "cell_type": "code",
   "execution_count": 61,
   "metadata": {},
   "outputs": [
    {
     "data": {
      "text/plain": [
       "2"
      ]
     },
     "execution_count": 61,
     "metadata": {},
     "output_type": "execute_result"
    }
   ],
   "source": [
    "# Удалим экземпляр ветора:\n",
    "del v3\n",
    "ref_count(id_v)"
   ]
  },
  {
   "cell_type": "code",
   "execution_count": 63,
   "metadata": {},
   "outputs": [],
   "source": [
    "# Несмотря на удаление объекта, ссылок все равно осталось 2.\n",
    "# Т.е. гарбейдж каллектор не сможет очистить такую память."
   ]
  },
  {
   "cell_type": "code",
   "execution_count": 65,
   "metadata": {},
   "outputs": [
    {
     "data": {
      "text/plain": [
       "{<__main__.Vector at 0x7f4e289b38b0>: 5,\n",
       " <__main__.Vector at 0x7f4e289b3bb0>: 10,\n",
       " <__main__.Vector at 0x7f4e289b3ac0>: 5}"
      ]
     },
     "execution_count": 65,
     "metadata": {},
     "output_type": "execute_result"
    }
   ],
   "source": [
    "# Но мы можем до него дотянутся:\n",
    "Vector.x._values"
   ]
  },
  {
   "cell_type": "code",
   "execution_count": 66,
   "metadata": {},
   "outputs": [
    {
     "data": {
      "text/plain": [
       "[<__main__.Vector at 0x7f4e289b38b0>,\n",
       " <__main__.Vector at 0x7f4e289b3bb0>,\n",
       " <__main__.Vector at 0x7f4e289b3ac0>]"
      ]
     },
     "execution_count": 66,
     "metadata": {},
     "output_type": "execute_result"
    }
   ],
   "source": [
    "# Приведем это все к списку ключей:\n",
    "list(Vector.x._values.keys())"
   ]
  },
  {
   "cell_type": "code",
   "execution_count": 68,
   "metadata": {},
   "outputs": [
    {
     "data": {
      "text/plain": [
       "<__main__.Vector at 0x7f4e289b38b0>"
      ]
     },
     "execution_count": 68,
     "metadata": {},
     "output_type": "execute_result"
    }
   ],
   "source": [
    "list(Vector.x._values.keys())[0]"
   ]
  },
  {
   "cell_type": "code",
   "execution_count": 69,
   "metadata": {},
   "outputs": [],
   "source": [
    "# Это удаленный объект.\n",
    "# А самое явление ни что иное как утечка памяти!\n",
    "# Сорщик мусора удаляет объекты из памяти, только если на них не осталось ссылок.\n",
    "# Чтобы это предотвратить, надо использовать слабые ссылки (weakref).\n",
    "# Либо использовать вариант дескриптора, который будет разобран через занятие."
   ]
  }
 ],
 "metadata": {
  "kernelspec": {
   "display_name": "Python 3",
   "language": "python",
   "name": "python3"
  },
  "language_info": {
   "codemirror_mode": {
    "name": "ipython",
    "version": 3
   },
   "file_extension": ".py",
   "mimetype": "text/x-python",
   "name": "python",
   "nbconvert_exporter": "python",
   "pygments_lexer": "ipython3",
   "version": "3.8.5"
  }
 },
 "nbformat": 4,
 "nbformat_minor": 4
}
