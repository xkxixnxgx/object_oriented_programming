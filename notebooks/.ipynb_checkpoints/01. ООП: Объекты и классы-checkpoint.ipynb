{
 "cells": [
  {
   "cell_type": "code",
   "execution_count": 7,
   "metadata": {},
   "outputs": [],
   "source": [
    "#1. ООП: Объекты и классы\n",
    "\n",
    "# Типы данных отличаются своим поведением и объемом памяти, которые они требуют.\n",
    "# Объект - это выделенная память, содержащая данные определенного типа и информацию о возможных операциях с ним.\n",
    "# Конечный автомат - это объект, который может быть в каждый момент иметь только одно состояние (кубик, выключатель, пружина)\n",
    "# Объекты хранят состояние памяти в конкретный момент времени по определенному адресу, в которой хранят значение.\n",
    "# Такие данные называются полями (свойствами или атребутами) объекта. Также имеется ифнормация о возможном поведении.\n",
    "# Поведение объекта описывается функциями.\n",
    "# При ООП мы должны определить:\n",
    "# - что у нас будет данными\n",
    "# - какие операции над данными мы будем выполнять\n",
    "# - как объекты будут между собой взаимодействовать, по каким правилам\n",
    "# Суть ООП заключается в объединении данных, методов их обработки и помещения их в обьекты.\n",
    "# Класс - это описание объекта.\n",
    "# Экземпляр класса (объект класса) - объект созданный на основе класса.\n",
    "# Все объекты одного класса имеют одинаковые характеристики, но имеют разные состояния."
   ]
  },
  {
   "cell_type": "code",
   "execution_count": 8,
   "metadata": {},
   "outputs": [],
   "source": [
    "# Создание класса с стиле CamelCase:\n",
    "class Person:\n",
    "    name = 'Ivan'"
   ]
  },
  {
   "cell_type": "code",
   "execution_count": 9,
   "metadata": {},
   "outputs": [
    {
     "data": {
      "text/plain": [
       "'Ivan'"
      ]
     },
     "execution_count": 9,
     "metadata": {},
     "output_type": "execute_result"
    }
   ],
   "source": [
    "# Вызов метода объекта через точку:\n",
    "Person.name"
   ]
  },
  {
   "cell_type": "code",
   "execution_count": 2,
   "metadata": {},
   "outputs": [
    {
     "data": {
      "text/plain": [
       "'Person'"
      ]
     },
     "execution_count": 2,
     "metadata": {},
     "output_type": "execute_result"
    }
   ],
   "source": [
    "# Один из атрибутов класса это его имя:\n",
    "class Person:\n",
    "    name = 'Ivan'\n",
    "Person.__name__"
   ]
  },
  {
   "cell_type": "code",
   "execution_count": 3,
   "metadata": {},
   "outputs": [
    {
     "data": {
      "text/plain": [
       "['__class__',\n",
       " '__delattr__',\n",
       " '__dict__',\n",
       " '__dir__',\n",
       " '__doc__',\n",
       " '__eq__',\n",
       " '__format__',\n",
       " '__ge__',\n",
       " '__getattribute__',\n",
       " '__gt__',\n",
       " '__hash__',\n",
       " '__init__',\n",
       " '__init_subclass__',\n",
       " '__le__',\n",
       " '__lt__',\n",
       " '__module__',\n",
       " '__ne__',\n",
       " '__new__',\n",
       " '__reduce__',\n",
       " '__reduce_ex__',\n",
       " '__repr__',\n",
       " '__setattr__',\n",
       " '__sizeof__',\n",
       " '__str__',\n",
       " '__subclasshook__',\n",
       " '__weakref__',\n",
       " 'name']"
      ]
     },
     "execution_count": 3,
     "metadata": {},
     "output_type": "execute_result"
    }
   ],
   "source": [
    "# Посмотреть на доступные атрибуты класса:\n",
    "dir(Person)"
   ]
  },
  {
   "cell_type": "code",
   "execution_count": 4,
   "metadata": {},
   "outputs": [
    {
     "data": {
      "text/plain": [
       "type"
      ]
     },
     "execution_count": 4,
     "metadata": {},
     "output_type": "execute_result"
    }
   ],
   "source": [
    "# В python все объекты. Класс нашего класса Person можем посмотреть:\n",
    "Person.__class__\n",
    "# type, потомучто класс созданный мной это пользовательский тип данных"
   ]
  },
  {
   "cell_type": "code",
   "execution_count": 5,
   "metadata": {},
   "outputs": [],
   "source": [
    "# Создадим экземпляр класса. Нужно вызвать класс, который возвращает его объект:\n",
    "p = Person()"
   ]
  },
  {
   "cell_type": "code",
   "execution_count": 6,
   "metadata": {},
   "outputs": [
    {
     "data": {
      "text/plain": [
       "__main__.Person"
      ]
     },
     "execution_count": 6,
     "metadata": {},
     "output_type": "execute_result"
    }
   ],
   "source": [
    "# Посмотрим на класс нашего экземпляра, который содержит ссылку на модуль и название класса:\n",
    "p.__class__"
   ]
  },
  {
   "cell_type": "code",
   "execution_count": 7,
   "metadata": {},
   "outputs": [
    {
     "data": {
      "text/plain": [
       "'Person'"
      ]
     },
     "execution_count": 7,
     "metadata": {},
     "output_type": "execute_result"
    }
   ],
   "source": [
    "# Логично использовать __name__, чтобы увидеть название класса:\n",
    "p.__class__.__name__"
   ]
  },
  {
   "cell_type": "code",
   "execution_count": 8,
   "metadata": {},
   "outputs": [
    {
     "data": {
      "text/plain": [
       "__main__.Person"
      ]
     },
     "execution_count": 8,
     "metadata": {},
     "output_type": "execute_result"
    }
   ],
   "source": [
    "# Также можно вернуть тип объекта с помощью функции type(), которая возвращает класс как объект:\n",
    "type(p)"
   ]
  },
  {
   "cell_type": "code",
   "execution_count": 9,
   "metadata": {},
   "outputs": [
    {
     "data": {
      "text/plain": [
       "<__main__.Person at 0x7f79f1f01040>"
      ]
     },
     "execution_count": 9,
     "metadata": {},
     "output_type": "execute_result"
    }
   ],
   "source": [
    "# Следовательно создать объект можно имея экземпляр класса можно создать объект такого же типа как аргумент с помощью функции type() и указания () для вызова класса:\n",
    "new_person = type(p)()\n",
    "new_person"
   ]
  },
  {
   "cell_type": "code",
   "execution_count": 16,
   "metadata": {},
   "outputs": [
    {
     "data": {
      "text/plain": [
       "140161726813232"
      ]
     },
     "execution_count": 16,
     "metadata": {},
     "output_type": "execute_result"
    }
   ],
   "source": [
    "# Можно проверить id экземпляров и убедиться что это разные объекты:\n",
    "p = Person()\n",
    "id(p)"
   ]
  },
  {
   "cell_type": "code",
   "execution_count": 17,
   "metadata": {},
   "outputs": [
    {
     "data": {
      "text/plain": [
       "140161726813952"
      ]
     },
     "execution_count": 17,
     "metadata": {},
     "output_type": "execute_result"
    }
   ],
   "source": [
    "new_person = type(p)()\n",
    "id(new_person)"
   ]
  },
  {
   "cell_type": "code",
   "execution_count": null,
   "metadata": {},
   "outputs": [],
   "source": []
  }
 ],
 "metadata": {
  "kernelspec": {
   "display_name": "Python 3",
   "language": "python",
   "name": "python3"
  },
  "language_info": {
   "codemirror_mode": {
    "name": "ipython",
    "version": 3
   },
   "file_extension": ".py",
   "mimetype": "text/x-python",
   "name": "python",
   "nbconvert_exporter": "python",
   "pygments_lexer": "ipython3",
   "version": "3.8.5"
  }
 },
 "nbformat": 4,
 "nbformat_minor": 4
}
