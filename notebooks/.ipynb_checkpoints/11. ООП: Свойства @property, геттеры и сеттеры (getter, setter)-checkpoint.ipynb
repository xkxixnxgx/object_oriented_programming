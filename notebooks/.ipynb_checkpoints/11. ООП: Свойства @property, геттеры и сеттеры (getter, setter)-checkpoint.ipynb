{
 "cells": [
  {
   "cell_type": "code",
   "execution_count": 1,
   "metadata": {},
   "outputs": [],
   "source": [
    "# Свойство класса - это способ доступа к переменным класса или к атрибутам класса.\n",
    "# Мы обращаемся к атрибутам класса, когда нам надо прочитать значение или присвоить новое значение."
   ]
  },
  {
   "cell_type": "code",
   "execution_count": 2,
   "metadata": {},
   "outputs": [],
   "source": [
    "# Пример:\n",
    "class Person:\n",
    "    def __init__(self, name):\n",
    "        self.name = name\n",
    "\n",
    "p = Person('Dima')"
   ]
  },
  {
   "cell_type": "code",
   "execution_count": 3,
   "metadata": {},
   "outputs": [
    {
     "data": {
      "text/plain": [
       "'Dima'"
      ]
     },
     "execution_count": 3,
     "metadata": {},
     "output_type": "execute_result"
    }
   ],
   "source": [
    "p.name"
   ]
  },
  {
   "cell_type": "code",
   "execution_count": 5,
   "metadata": {},
   "outputs": [
    {
     "data": {
      "text/plain": [
       "'Ivan'"
      ]
     },
     "execution_count": 5,
     "metadata": {},
     "output_type": "execute_result"
    }
   ],
   "source": [
    "p.name = 'Ivan'\n",
    "p.name"
   ]
  },
  {
   "cell_type": "code",
   "execution_count": 7,
   "metadata": {},
   "outputs": [],
   "source": [
    "# Так можно делать. Но прямое изменение значения атрибутов не приветствуется.\n",
    "# Для чтения/изменения приватного свойства в C# например используют методы get и set.\n",
    "# В python мы используем одинарное нижнее подчеркивание для того, чтобы сделать свойство приватным.\n",
    "# Но извне ими не принято пользоваться.\n",
    "# Для реализации функций getter и setter в python есть специальный класс property, который уже импортирован в class и может быть вызван в нем."
   ]
  },
  {
   "cell_type": "code",
   "execution_count": 10,
   "metadata": {},
   "outputs": [],
   "source": [
    "# Например создадим класс и два метода в нем:\n",
    "class Person:\n",
    "    def __init__(self, name):\n",
    "        self._name = name\n",
    "    \n",
    "    def get_name(self):\n",
    "        print('From get_name()') # просто метка для обозначения\n",
    "        return self._name\n",
    "    \n",
    "    def set_name(self, value):\n",
    "        print('From set_name()') # просто метка для обозначения\n",
    "        self._name = value\n",
    "        \n",
    "    name = property(fget=get_name, fset=set_name)\n",
    "    \n",
    "p = Person('Dima')"
   ]
  },
  {
   "cell_type": "code",
   "execution_count": 11,
   "metadata": {},
   "outputs": [],
   "source": [
    "# Внутри класса создаем переменную name, которая будет экземпляром класса property.\n",
    "# В таком случае переменная name становится свойством класса, атрибутом класса.\n",
    "# Класс property имеет два параметра fget и fset.\n",
    "# Fget принимает значение функции, которая отвечает за чтение свойства. В нашем случае это функция get_name.\n",
    "# Fset получает объект функции set_name, который изменяет значение приватного свойства.\n",
    "# В итоге свойство name становится атрибутом класса, его не будет в пространстве имен экзмепляра."
   ]
  },
  {
   "cell_type": "code",
   "execution_count": 12,
   "metadata": {},
   "outputs": [
    {
     "data": {
      "text/plain": [
       "{'_name': 'Dima'}"
      ]
     },
     "execution_count": 12,
     "metadata": {},
     "output_type": "execute_result"
    }
   ],
   "source": [
    "# Посмотрим как работает метод get_name:\n",
    "p.__dict__"
   ]
  },
  {
   "cell_type": "code",
   "execution_count": 13,
   "metadata": {},
   "outputs": [
    {
     "name": "stdout",
     "output_type": "stream",
     "text": [
      "From get_name()\n"
     ]
    },
    {
     "data": {
      "text/plain": [
       "'Dima'"
      ]
     },
     "execution_count": 13,
     "metadata": {},
     "output_type": "execute_result"
    }
   ],
   "source": [
    "p.name"
   ]
  },
  {
   "cell_type": "code",
   "execution_count": 14,
   "metadata": {},
   "outputs": [],
   "source": [
    "# Мы получили метку, что управление было передано в метод get_name.\n",
    "# В результате получили значение приватной переменной name."
   ]
  },
  {
   "cell_type": "code",
   "execution_count": 15,
   "metadata": {},
   "outputs": [
    {
     "name": "stdout",
     "output_type": "stream",
     "text": [
      "From set_name()\n"
     ]
    }
   ],
   "source": [
    "# Посмотрим как работает метод set_name:\n",
    "p.name = 'Ivan'"
   ]
  },
  {
   "cell_type": "code",
   "execution_count": 16,
   "metadata": {},
   "outputs": [
    {
     "data": {
      "text/plain": [
       "{'_name': 'Ivan'}"
      ]
     },
     "execution_count": 16,
     "metadata": {},
     "output_type": "execute_result"
    }
   ],
   "source": [
    "# Видим что управление было передано методу set_name и проверим что получилось:\n",
    "p.__dict__"
   ]
  },
  {
   "cell_type": "code",
   "execution_count": 17,
   "metadata": {},
   "outputs": [],
   "source": [
    "# Т.е. чтение и запись приватного метода были выполнены через функции класса get_name и set_name.\n",
    "# Зачем вообще это нужно, если все свойства можно сразу определить в __init__ методе?"
   ]
  },
  {
   "cell_type": "code",
   "execution_count": 18,
   "metadata": {},
   "outputs": [],
   "source": [
    "# 1. Таким способом мы можем заменить в классе все что угодно не ломая внутренний интерфейс класса.\n",
    "# Т.к. для передачи в качестве аргументов в класс property можно передать все что угодно.\n",
    "# 2. Функции getter и setter становятся буферными зонами в которых можно выполнять различные действия.\n",
    "# Можно сделать валидацию входного значения, обработать его, нормализовать."
   ]
  },
  {
   "cell_type": "code",
   "execution_count": 19,
   "metadata": {},
   "outputs": [],
   "source": [
    "# Геттеры и сеттеры можно присвоить гораздо позже создания класса.\n",
    "# Т.е. сделать приватные свойства, создать новые методы и в качестве геттеров и сеттеров поставить все что нужно."
   ]
  },
  {
   "cell_type": "code",
   "execution_count": 23,
   "metadata": {},
   "outputs": [],
   "source": [
    "# Еще один способ задать геттеры и сеттеры - это создать декоратор.\n",
    "class Person:\n",
    "    def __init__(self, name):\n",
    "        self._name = name\n",
    "    \n",
    "    def get_name(self):\n",
    "        print('From get_name()') # просто метка для обозначения\n",
    "        return self._name\n",
    "    \n",
    "    def set_name(self, value):\n",
    "        print('From set_name()') # просто метка для обозначения\n",
    "        self._name = value\n",
    "        \n",
    "    name = property()\n",
    "    name = name.getter(get_name)\n",
    "    name = name.setter(set_name)\n",
    "    \n",
    "p = Person('Dima')"
   ]
  },
  {
   "cell_type": "code",
   "execution_count": 24,
   "metadata": {},
   "outputs": [],
   "source": [
    "# В данном случае мы вызываем методы getter и setter у экземпляра класса name и передаем в эти методы значение функций get_name и set_name."
   ]
  },
  {
   "cell_type": "code",
   "execution_count": 25,
   "metadata": {},
   "outputs": [
    {
     "name": "stdout",
     "output_type": "stream",
     "text": [
      "From get_name()\n"
     ]
    },
    {
     "data": {
      "text/plain": [
       "'Dima'"
      ]
     },
     "execution_count": 25,
     "metadata": {},
     "output_type": "execute_result"
    }
   ],
   "source": [
    "# Проверим как эта конструкция работает:\n",
    "p.name"
   ]
  },
  {
   "cell_type": "code",
   "execution_count": 26,
   "metadata": {},
   "outputs": [
    {
     "name": "stdout",
     "output_type": "stream",
     "text": [
      "From set_name()\n"
     ]
    }
   ],
   "source": [
    "p.name = 'Oleg'"
   ]
  },
  {
   "cell_type": "code",
   "execution_count": 27,
   "metadata": {},
   "outputs": [
    {
     "name": "stdout",
     "output_type": "stream",
     "text": [
      "From get_name()\n"
     ]
    },
    {
     "data": {
      "text/plain": [
       "'Oleg'"
      ]
     },
     "execution_count": 27,
     "metadata": {},
     "output_type": "execute_result"
    }
   ],
   "source": [
    "p.name"
   ]
  },
  {
   "cell_type": "code",
   "execution_count": 28,
   "metadata": {},
   "outputs": [],
   "source": [
    "# Работает."
   ]
  },
  {
   "cell_type": "code",
   "execution_count": 29,
   "metadata": {},
   "outputs": [],
   "source": [
    "# Либо как вариант для упрощения когда:\n",
    "class Person:\n",
    "    def __init__(self, name):\n",
    "        self._name = name\n",
    "    \n",
    "    def get_name(self):\n",
    "        print('From get_name()') # просто метка для обозначения\n",
    "        return self._name\n",
    "    \n",
    "    def set_name(self, value):\n",
    "        print('From set_name()') # просто метка для обозначения\n",
    "        self._name = value\n",
    "        \n",
    "    name = property(get_name)\n",
    "    name = name.setter(set_name)\n",
    "    \n",
    "p = Person('Dima')"
   ]
  },
  {
   "cell_type": "code",
   "execution_count": 30,
   "metadata": {},
   "outputs": [],
   "source": [
    "# Следующий пример.\n",
    "# Создадим функцию, которая будет читать значение приватного метода:\n",
    "class Person:\n",
    "    def __init__(self, name):\n",
    "        self._name = name\n",
    "    \n",
    "    def name(self):\n",
    "        return self._name\n",
    "    \n",
    "p = Person('Dima')"
   ]
  },
  {
   "cell_type": "code",
   "execution_count": 31,
   "metadata": {},
   "outputs": [],
   "source": [
    "# Теперь сделаем name экзмепляром класса property, который получает в качестве аргумента объект функции name (в качестве геттера).\n",
    "class Person:\n",
    "    def __init__(self, name):\n",
    "        self._name = name\n",
    "    \n",
    "    def name(self):\n",
    "        return self._name\n",
    "    \n",
    "    name = property(name)\n",
    "    \n",
    "p = Person('Dima')\n",
    "\n",
    "# При этом name переопределяется и становится свойством класса.\n",
    "# Т.е. класс property получил в качестве аргумента объект функции name и тут же имя name было перезаписано этим новым значением (экземпляром класса property).\n",
    "# Это поведение похоже на декораторы, которые получают на вход функцию, а возвразщают функцию с измененным поведением."
   ]
  },
  {
   "cell_type": "code",
   "execution_count": 32,
   "metadata": {},
   "outputs": [],
   "source": [
    "# По сути это так и работает, т.к. property это декоратор:\n",
    "class Person:\n",
    "    def __init__(self, name):\n",
    "        self._name = name\n",
    "    \n",
    "    @property # функция name становится экземпляром класса property\n",
    "    def name(self):\n",
    "        return self._name\n",
    "    \n",
    "#     name = property(name)\n",
    "    \n",
    "p = Person('Dima')"
   ]
  },
  {
   "cell_type": "code",
   "execution_count": 33,
   "metadata": {},
   "outputs": [],
   "source": [
    "# Похожим способом можно сделать setter:\n",
    "class Person:\n",
    "    def __init__(self, name):\n",
    "        self._name = name\n",
    "    \n",
    "    @property # функция name становится экземпляром класса property\n",
    "    def name(self):\n",
    "        return self._name\n",
    "    \n",
    "    def set_name(self, value):\n",
    "        self._name = value\n",
    "    \n",
    "    name = name.setter(set_name)\n",
    "    \n",
    "p = Person('Dima')"
   ]
  },
  {
   "cell_type": "code",
   "execution_count": 35,
   "metadata": {},
   "outputs": [],
   "source": [
    "# В примере выше name остается экземпляром класса property, но его метод setter получает в качестве аргумента функцию set_name.\n",
    "#  Либо мы сного можем использовать декоратор:\n",
    "class Person:\n",
    "    def __init__(self, name):\n",
    "        self._name = name\n",
    "    \n",
    "    @property # функция name становится экземпляром класса property\n",
    "    def name(self):\n",
    "        return self._name\n",
    "    \n",
    "    @name.setter\n",
    "    def name(self, value):\n",
    "        self._name = value\n",
    "    \n",
    "#     name = name.setter(set_name)\n",
    "    \n",
    "p = Person('Dima')"
   ]
  },
  {
   "cell_type": "code",
   "execution_count": 36,
   "metadata": {},
   "outputs": [
    {
     "data": {
      "text/plain": [
       "'Dima'"
      ]
     },
     "execution_count": 36,
     "metadata": {},
     "output_type": "execute_result"
    }
   ],
   "source": [
    "# У нас получается две функции (метода) с одинаковым именем, но разным поведением, т.к. разные декораторы. Так и должно быть, иначе будет исключение.\n",
    "# Проверим:\n",
    "p.name"
   ]
  },
  {
   "cell_type": "code",
   "execution_count": 37,
   "metadata": {},
   "outputs": [
    {
     "data": {
      "text/plain": [
       "'Oleg'"
      ]
     },
     "execution_count": 37,
     "metadata": {},
     "output_type": "execute_result"
    }
   ],
   "source": [
    "p.name = 'Oleg'\n",
    "p.name"
   ]
  }
 ],
 "metadata": {
  "kernelspec": {
   "display_name": "Python 3",
   "language": "python",
   "name": "python3"
  },
  "language_info": {
   "codemirror_mode": {
    "name": "ipython",
    "version": 3
   },
   "file_extension": ".py",
   "mimetype": "text/x-python",
   "name": "python",
   "nbconvert_exporter": "python",
   "pygments_lexer": "ipython3",
   "version": "3.8.5"
  }
 },
 "nbformat": 4,
 "nbformat_minor": 4
}
