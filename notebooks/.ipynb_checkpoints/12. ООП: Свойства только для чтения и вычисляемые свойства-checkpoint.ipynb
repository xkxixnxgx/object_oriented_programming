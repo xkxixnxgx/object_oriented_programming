{
 "cells": [
  {
   "cell_type": "code",
   "execution_count": 1,
   "metadata": {},
   "outputs": [],
   "source": [
    "# Чтобы создать свойство только для чтения необходимо создать декоратор только с getter.\n",
    "# setter мы не устанавливаем.\n",
    "class Person:\n",
    "    def __init__(self, name):\n",
    "        self._name = name\n",
    "        \n",
    "    @property\n",
    "    def name(self):\n",
    "        return self._name\n",
    "\n",
    "p = Person('Oleg')"
   ]
  },
  {
   "cell_type": "code",
   "execution_count": 2,
   "metadata": {},
   "outputs": [
    {
     "data": {
      "text/plain": [
       "'Oleg'"
      ]
     },
     "execution_count": 2,
     "metadata": {},
     "output_type": "execute_result"
    }
   ],
   "source": [
    "p.name"
   ]
  },
  {
   "cell_type": "code",
   "execution_count": 3,
   "metadata": {},
   "outputs": [
    {
     "ename": "AttributeError",
     "evalue": "can't set attribute",
     "output_type": "error",
     "traceback": [
      "\u001b[0;31m---------------------------------------------------------------------------\u001b[0m",
      "\u001b[0;31mAttributeError\u001b[0m                            Traceback (most recent call last)",
      "\u001b[0;32m<ipython-input-3-a9639b168731>\u001b[0m in \u001b[0;36m<module>\u001b[0;34m\u001b[0m\n\u001b[0;32m----> 1\u001b[0;31m \u001b[0mp\u001b[0m\u001b[0;34m.\u001b[0m\u001b[0mname\u001b[0m \u001b[0;34m=\u001b[0m \u001b[0;34m'Ivan'\u001b[0m\u001b[0;34m\u001b[0m\u001b[0;34m\u001b[0m\u001b[0m\n\u001b[0m",
      "\u001b[0;31mAttributeError\u001b[0m: can't set attribute"
     ]
    }
   ],
   "source": [
    "p.name = 'Ivan'"
   ]
  },
  {
   "cell_type": "code",
   "execution_count": 4,
   "metadata": {},
   "outputs": [],
   "source": [
    "# Т.е. мы использовали декоратор property для метода getter.\n",
    "# Также мы можем использовать декоратор property для вычисляемых свойств."
   ]
  },
  {
   "cell_type": "code",
   "execution_count": 8,
   "metadata": {},
   "outputs": [],
   "source": [
    "# Сделаем вычисляемое свойство full_name:\n",
    "class Person:\n",
    "    def __init__(self, name, surname):\n",
    "        self._name = name\n",
    "        self._surname = surname\n",
    "        \n",
    "    @property\n",
    "    def full_name(self):\n",
    "        return f'{self._name} {self._surname}'\n",
    "\n",
    "p = Person('Ivan', 'Ivanov')"
   ]
  },
  {
   "cell_type": "code",
   "execution_count": 9,
   "metadata": {},
   "outputs": [
    {
     "data": {
      "text/plain": [
       "'Ivan Ivanov'"
      ]
     },
     "execution_count": 9,
     "metadata": {},
     "output_type": "execute_result"
    }
   ],
   "source": [
    "p.full_name"
   ]
  },
  {
   "cell_type": "code",
   "execution_count": 10,
   "metadata": {},
   "outputs": [],
   "source": [
    "# Вычисляемые своства вычисляются только при обращении.\n",
    "# Они полезны в тех случаях, когда не надо хранить состояния.\n",
    "# А также в тех местах, где есть смысл всякий раз проводить вычисления, когда что-то изменяется."
   ]
  },
  {
   "cell_type": "code",
   "execution_count": 11,
   "metadata": {},
   "outputs": [],
   "source": [
    "# Пример. Иванов решил сменить фамилию. При это нет необходимости изменять full_name каждый раз, т.к. оно меняется всякий раз, когда к нему обращаются.\n",
    "# Нам необходимо добавить getter и setter к функциям name и surname.\n",
    "class Person:\n",
    "    def __init__(self, name, surname):\n",
    "        self._name = name\n",
    "        self._surname = surname\n",
    "    \n",
    "    @property\n",
    "    def name(self):\n",
    "        return self._name\n",
    "    \n",
    "    @name.setter\n",
    "    def name(self, value):\n",
    "        self._name = value\n",
    "        \n",
    "    @property\n",
    "    def surname(self):\n",
    "        return self._surname\n",
    "    \n",
    "    @surname.setter\n",
    "    def surname(self, value):\n",
    "        self._surname = value\n",
    "        \n",
    "    @property\n",
    "    def full_name(self):\n",
    "        return f'{self._name} {self._surname}'\n",
    "\n",
    "p = Person('Ivan', 'Ivanov')"
   ]
  },
  {
   "cell_type": "code",
   "execution_count": 12,
   "metadata": {},
   "outputs": [
    {
     "data": {
      "text/plain": [
       "'Ivan Ivanov'"
      ]
     },
     "execution_count": 12,
     "metadata": {},
     "output_type": "execute_result"
    }
   ],
   "source": [
    "# Проверим:\n",
    "p.full_name"
   ]
  },
  {
   "cell_type": "code",
   "execution_count": 13,
   "metadata": {},
   "outputs": [
    {
     "data": {
      "text/plain": [
       "'Ivan Petrov'"
      ]
     },
     "execution_count": 13,
     "metadata": {},
     "output_type": "execute_result"
    }
   ],
   "source": [
    "p.surname = 'Petrov'\n",
    "p.full_name"
   ]
  },
  {
   "cell_type": "code",
   "execution_count": 15,
   "metadata": {},
   "outputs": [],
   "source": [
    "# Каждый раз вычислять поле не производительно.\n",
    "# Попробуем настроить кеширование."
   ]
  },
  {
   "cell_type": "code",
   "execution_count": 16,
   "metadata": {},
   "outputs": [],
   "source": [
    "# Кеширование - это создание переменной в которую мы кладем вычисленное значение и вызываем ее при необходимости.\n",
    "# Если данные изменились, то нам надо обновить данные кеша.\n",
    "# Для начала нам нужно приватное свойство, которое мы установим в значение None:\n",
    "# Далее мы считаем, что когда name или surname меняются, т.е. вызываются метод setter, то нам надо производить вычисления кеша заново.\n",
    "# Ставим в методах setter значение full_name в None.\n",
    "# В вычисляемом свойстве делаем проверку, содержит ли переменная full_name какое-либо значение отличное от None.\n",
    "# Если содержит, значит мы его возвращаем.\n",
    "class Person:\n",
    "    def __init__(self, name, surname):\n",
    "        self._name = name\n",
    "        self._surname = surname\n",
    "        self._full_name = None\n",
    "        \n",
    "    @property\n",
    "    def name(self):\n",
    "        return self._name\n",
    "    \n",
    "    @name.setter\n",
    "    def name(self, value):\n",
    "        self._name = value\n",
    "        self._full_name = None\n",
    "        \n",
    "    @property\n",
    "    def surname(self):\n",
    "        return self._surname\n",
    "    \n",
    "    @surname.setter\n",
    "    def surname(self, value):\n",
    "        self._surname = value\n",
    "        self._full_name = None\n",
    "        \n",
    "    @property\n",
    "    def full_name(self):\n",
    "        if self._full_name is None:\n",
    "            self._full_name = f'{self._name} {self._surname}'\n",
    "        return self._full_name\n",
    "\n",
    "p = Person('Ivan', 'Ivanov')"
   ]
  },
  {
   "cell_type": "code",
   "execution_count": 17,
   "metadata": {},
   "outputs": [],
   "source": [
    "# Логика такая.\n",
    "# Когда вызывается метод setter мы сбрасываем флаг _full_name  в None.\n",
    "# Далее в вычисляемом свойстве проверяем, если влаг в None, значит что-то изменилось.\n",
    "# Следовательно вычисляем значение _full_name заново и возвращаем."
   ]
  },
  {
   "cell_type": "code",
   "execution_count": 18,
   "metadata": {},
   "outputs": [
    {
     "data": {
      "text/plain": [
       "{'_name': 'Ivan', '_surname': 'Ivanov', '_full_name': None}"
      ]
     },
     "execution_count": 18,
     "metadata": {},
     "output_type": "execute_result"
    }
   ],
   "source": [
    "# Проверим как работает\n",
    "p.__dict__"
   ]
  },
  {
   "cell_type": "code",
   "execution_count": 19,
   "metadata": {},
   "outputs": [
    {
     "data": {
      "text/plain": [
       "'Ivan Ivanov'"
      ]
     },
     "execution_count": 19,
     "metadata": {},
     "output_type": "execute_result"
    }
   ],
   "source": [
    "p.full_name"
   ]
  },
  {
   "cell_type": "code",
   "execution_count": 20,
   "metadata": {},
   "outputs": [
    {
     "data": {
      "text/plain": [
       "{'_name': 'Ivan', '_surname': 'Ivanov', '_full_name': 'Ivan Ivanov'}"
      ]
     },
     "execution_count": 20,
     "metadata": {},
     "output_type": "execute_result"
    }
   ],
   "source": [
    "# Мы вызвали full_name. Проверим закешировался ли результат:\n",
    "p.__dict__"
   ]
  },
  {
   "cell_type": "code",
   "execution_count": 22,
   "metadata": {},
   "outputs": [
    {
     "data": {
      "text/plain": [
       "{'_name': 'Ivan', '_surname': 'Petrov', '_full_name': None}"
      ]
     },
     "execution_count": 22,
     "metadata": {},
     "output_type": "execute_result"
    }
   ],
   "source": [
    "# Меняем фамилию и вместе с ней меняется флаг:\n",
    "p.surname = 'Petrov'\n",
    "p.__dict__"
   ]
  },
  {
   "cell_type": "code",
   "execution_count": 23,
   "metadata": {},
   "outputs": [
    {
     "data": {
      "text/plain": [
       "'Ivan Petrov'"
      ]
     },
     "execution_count": 23,
     "metadata": {},
     "output_type": "execute_result"
    }
   ],
   "source": [
    "p.full_name"
   ]
  },
  {
   "cell_type": "code",
   "execution_count": 24,
   "metadata": {},
   "outputs": [
    {
     "data": {
      "text/plain": [
       "{'_name': 'Ivan', '_surname': 'Petrov', '_full_name': 'Ivan Petrov'}"
      ]
     },
     "execution_count": 24,
     "metadata": {},
     "output_type": "execute_result"
    }
   ],
   "source": [
    "p.__dict__"
   ]
  },
  {
   "cell_type": "code",
   "execution_count": 25,
   "metadata": {},
   "outputs": [],
   "source": [
    "# Результат закешировался."
   ]
  }
 ],
 "metadata": {
  "kernelspec": {
   "display_name": "Python 3",
   "language": "python",
   "name": "python3"
  },
  "language_info": {
   "codemirror_mode": {
    "name": "ipython",
    "version": 3
   },
   "file_extension": ".py",
   "mimetype": "text/x-python",
   "name": "python",
   "nbconvert_exporter": "python",
   "pygments_lexer": "ipython3",
   "version": "3.8.5"
  }
 },
 "nbformat": 4,
 "nbformat_minor": 4
}
