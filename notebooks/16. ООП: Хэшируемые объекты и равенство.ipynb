{
 "cells": [
  {
   "cell_type": "code",
   "execution_count": 1,
   "metadata": {},
   "outputs": [
    {
     "data": {
      "text/plain": [
       "'f79424aeb7453fb3daf3eea593a54029'"
      ]
     },
     "execution_count": 1,
     "metadata": {},
     "output_type": "execute_result"
    }
   ],
   "source": [
    "# Хешируемые объекты и равенство - это ключевые моменты при работе со словарями и множествами.\n",
    "# Иногда нам нужно, чтобы наши объекты были ключами в словарях.\n",
    "# Как мы знаем ключами могут быть только неизменяемые объекты.\n",
    "# Это связано с тем, что словари работают на основе хэширования.\n",
    "# Суть хэширования - алгоритм хэширования преобразует строку неопределенной длины в строку определенной длины.\n",
    "# Например:\n",
    "import hashlib\n",
    "\n",
    "hashlib.md5('Yury'.encode('utf8')).hexdigest()"
   ]
  },
  {
   "cell_type": "code",
   "execution_count": 3,
   "metadata": {},
   "outputs": [
    {
     "data": {
      "text/plain": [
       "'d587968a469a2f03ea25eead3824409c'"
      ]
     },
     "execution_count": 3,
     "metadata": {},
     "output_type": "execute_result"
    }
   ],
   "source": [
    "# Добавим пробел и хэш строка полностью изменилась.\n",
    "hashlib.md5('Yury '.encode('utf8')).hexdigest()"
   ]
  },
  {
   "cell_type": "code",
   "execution_count": 4,
   "metadata": {},
   "outputs": [],
   "source": [
    "# Идентификация словаря идет от хэша по ключам.\n",
    "# Поэтому ключом в словаре может быть только неизменяемый объект.\n",
    "# Или другими словами ключом в словаре может быть только хэшируемый объект.\n",
    "# Объект может быть хэшируемым, если у него реализован магический метод __hash__, а также метод равенства __eq__.\n",
    "# Если использовать только __eq__, то python выставляет значение метода __hash__ в значение None, до тех пор пока мы его не реализуем.\n",
    "# Надо понимать, что реализовать методы __hash__, __eq__ можно только для тех свойств класса, которые не меняются.\n",
    "# В противном случае, если объект меняется, то хэш также изменится и получиться по нему значение в словаре будет невозможно.\n",
    "# Объекты являются равными, если у них одинаковый хэш и одинаковый адрес в памяти.\n",
    "# Чтобы дать нашим классам возможность быть ключами в словаре, мы должны переопределить метод __hash__.\n",
    "# При этом мы должны выбрать для нашего класса такое свойство, которое не должно меняться.\n",
    "# Значит это может быть только read only свойство. Свойство только для чтения."
   ]
  },
  {
   "cell_type": "code",
   "execution_count": 5,
   "metadata": {},
   "outputs": [],
   "source": [
    "# Пример. Добавляем property делая метод только для чтения и далее можем его использовать для хэширования:\n",
    "class Person:\n",
    "    def __init__(self, name):\n",
    "        self._name = name\n",
    "    \n",
    "    @property\n",
    "    def name(self):\n",
    "        return self._name\n",
    "    \n",
    "    def __hash__(self):\n",
    "        return hash(self.name)\n",
    "    \n",
    "    def __eq__(self, person_obj):\n",
    "        return isinstance(person_obj, Person) and self.name == person_obj.name"
   ]
  },
  {
   "cell_type": "code",
   "execution_count": 6,
   "metadata": {},
   "outputs": [],
   "source": [
    "# Создадим два Ивана и проверим равны ли экземпляры:\n",
    "p1 = Person('Ivan')\n",
    "p2 = Person('Ivan')"
   ]
  },
  {
   "cell_type": "code",
   "execution_count": 7,
   "metadata": {},
   "outputs": [
    {
     "data": {
      "text/plain": [
       "<__main__.Person at 0x7f248c21e5b0>"
      ]
     },
     "execution_count": 7,
     "metadata": {},
     "output_type": "execute_result"
    }
   ],
   "source": [
    "p1"
   ]
  },
  {
   "cell_type": "code",
   "execution_count": 8,
   "metadata": {},
   "outputs": [
    {
     "data": {
      "text/plain": [
       "<__main__.Person at 0x7f248c21edc0>"
      ]
     },
     "execution_count": 8,
     "metadata": {},
     "output_type": "execute_result"
    }
   ],
   "source": [
    "p2"
   ]
  },
  {
   "cell_type": "code",
   "execution_count": 9,
   "metadata": {},
   "outputs": [
    {
     "data": {
      "text/plain": [
       "True"
      ]
     },
     "execution_count": 9,
     "metadata": {},
     "output_type": "execute_result"
    }
   ],
   "source": [
    "p1 == p2"
   ]
  },
  {
   "cell_type": "code",
   "execution_count": 10,
   "metadata": {},
   "outputs": [
    {
     "data": {
      "text/plain": [
       "False"
      ]
     },
     "execution_count": 10,
     "metadata": {},
     "output_type": "execute_result"
    }
   ],
   "source": [
    "# Создадим другой экземпляр:\n",
    "p3 = Person('oleg')\n",
    "p1 == p3"
   ]
  },
  {
   "cell_type": "code",
   "execution_count": 11,
   "metadata": {},
   "outputs": [
    {
     "data": {
      "text/plain": [
       "5654853409562473832"
      ]
     },
     "execution_count": 11,
     "metadata": {},
     "output_type": "execute_result"
    }
   ],
   "source": [
    "# Кстати хэши p1 и p2 также одинаковые:\n",
    "hash(p1)"
   ]
  },
  {
   "cell_type": "code",
   "execution_count": 12,
   "metadata": {},
   "outputs": [
    {
     "data": {
      "text/plain": [
       "5654853409562473832"
      ]
     },
     "execution_count": 12,
     "metadata": {},
     "output_type": "execute_result"
    }
   ],
   "source": [
    "hash(p2)"
   ]
  },
  {
   "cell_type": "code",
   "execution_count": 13,
   "metadata": {},
   "outputs": [
    {
     "data": {
      "text/plain": [
       "'Ivanov Ivan'"
      ]
     },
     "execution_count": 13,
     "metadata": {},
     "output_type": "execute_result"
    }
   ],
   "source": [
    "# Теперь наш объект класса Person, может быть ключом в словаре.\n",
    "# Создадим словарь и вызовем значение по ключу, в качестве которого выступает наш экземпляр класса:\n",
    "d = {p1: 'Ivanov Ivan'}\n",
    "d.get(p1)"
   ]
  },
  {
   "cell_type": "code",
   "execution_count": 14,
   "metadata": {},
   "outputs": [],
   "source": [
    "# Случаев со множествами это также касается."
   ]
  }
 ],
 "metadata": {
  "kernelspec": {
   "display_name": "Python 3",
   "language": "python",
   "name": "python3"
  },
  "language_info": {
   "codemirror_mode": {
    "name": "ipython",
    "version": 3
   },
   "file_extension": ".py",
   "mimetype": "text/x-python",
   "name": "python",
   "nbconvert_exporter": "python",
   "pygments_lexer": "ipython3",
   "version": "3.8.5"
  }
 },
 "nbformat": 4,
 "nbformat_minor": 4
}
